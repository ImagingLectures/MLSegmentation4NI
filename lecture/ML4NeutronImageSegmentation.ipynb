{
 "cells": [
  {
   "cell_type": "markdown",
   "metadata": {
    "slideshow": {
     "slide_type": "slide"
    }
   },
   "source": [
    "<p style=\"font-size:1.75em;padding-bottom: 1.0em;\"><b>Machine learning to segment neutron images</b></p>\n",
    "<p style=\"font-size:1.2em;padding-bottom: 0.25em;\">Anders Kaestner, Beamline scientist - Neutron Imaging</p>  \n",
    "<p style=\"font-size:1.2em;\">Laboratory for Neutron Scattering and Imaging<br />Paul Scherrer Institut</p>"
   ]
  },
  {
   "cell_type": "markdown",
   "metadata": {
    "slideshow": {
     "slide_type": "slide"
    }
   },
   "source": [
    "# Lecture outline\n",
    "1. Introduction\n",
    "2. Limited data problem\n",
    "3. Unsupervised segmentation\n",
    "4. Supervised segmentation\n",
    "5. Final problem: Segmenting root networks using convolutional NNs\n",
    "6. Future Machine learning challenges in NI"
   ]
  },
  {
   "cell_type": "markdown",
   "metadata": {
    "slideshow": {
     "slide_type": "slide"
    }
   },
   "source": [
    "# Introduction"
   ]
  },
  {
   "cell_type": "markdown",
   "metadata": {
    "slideshow": {
     "slide_type": "fragment"
    }
   },
   "source": [
    "- Introduction to neutron imaging\n",
    "  - Some words about the method\n",
    "  - Contrasts\n",
    "  "
   ]
  },
  {
   "cell_type": "markdown",
   "metadata": {
    "slideshow": {
     "slide_type": "fragment"
    }
   },
   "source": [
    "- Introduction to segmentation\n",
    "  - What is segmentation\n",
    "  - Noise and SNR"
   ]
  },
  {
   "cell_type": "markdown",
   "metadata": {
    "slideshow": {
     "slide_type": "fragment"
    }
   },
   "source": [
    "- Problematic segmentation tasks\n",
    "  - Intro\n",
    "  - Segmenation problems in neutron imaging\n",
    "  "
   ]
  },
  {
   "cell_type": "markdown",
   "metadata": {
    "slideshow": {
     "slide_type": "slide"
    }
   },
   "source": [
    "\n",
    "## What is an image?\n",
    "\n",
    "----\n",
    "\n",
    "A very abstract definition: \n",
    "- __A pairing between spatial information (position)__\n",
    "- __and some other kind of information (value).__\n",
    "\n",
    "In most cases this is a two- or three-dimensional position (x,y,z coordinates) and a numeric value (intensity)\n",
    "\n"
   ]
  },
  {
   "cell_type": "markdown",
   "metadata": {
    "slideshow": {
     "slide_type": "slide"
    }
   },
   "source": [
    "## Science and Imaging\n",
    "Images are great for qualitative analyses since our brains can quickly interpret them without large _programming_ investements.\n",
    "### Proper processing and quantitative analysis is however much more difficult with images.\n",
    " - If you measure a temperature, quantitative analysis is easy, $50K$.\n",
    " - If you measure an image it is much more difficult and much more prone to mistakes, subtle setup variations, and confusing analyses\n",
    "\n",
    "\n",
    "### Furthermore in image processing there is a plethora of tools available\n",
    "\n",
    "- Thousands of algorithms available\n",
    "- Thousands of tools\n",
    "- Many images require multi-step processing\n",
    "- Experimenting is time-consuming"
   ]
  },
  {
   "cell_type": "markdown",
   "metadata": {
    "slideshow": {
     "slide_type": "subslide"
    }
   },
   "source": [
    "## Introduction to neutron imaging\n",
    "Some words about the method"
   ]
  },
  {
   "cell_type": "markdown",
   "metadata": {
    "slideshow": {
     "slide_type": "notes"
    }
   },
   "source": [
    "Neutron imaging is a method based on transmission of the neutron radiation through a sample, i.e. the fundamental information is a radiograph. In this sense it is very much similar to the more known x-ray imaging. The intensity in a radiographic image proportional to the amount of radiation that remains after it was transmitted through the sample. The transmitted radiation is described by Beer-Lambert's law which in its basic form look like\n",
    "\n",
    "$I=I_0\\cdot{}e^{-\\int_L \\mu{}(x) dx}$\n",
    "\n",
    "Where $\\mu(x)$ is the attenuation coefficient of the sample at position _x_."
   ]
  },
  {
   "cell_type": "markdown",
   "metadata": {
    "slideshow": {
     "slide_type": "subslide"
    }
   },
   "source": [
    "## Neutron imaging contrast"
   ]
  },
  {
   "cell_type": "markdown",
   "metadata": {
    "slideshow": {
     "slide_type": "subslide"
    }
   },
   "source": [
    "## Introduction to segmentation\n",
    "What is segmentation"
   ]
  },
  {
   "cell_type": "markdown",
   "metadata": {
    "slideshow": {
     "slide_type": "subslide"
    }
   },
   "source": [
    "## Noise and SNR"
   ]
  },
  {
   "cell_type": "markdown",
   "metadata": {
    "slideshow": {
     "slide_type": "slide"
    }
   },
   "source": [
    "## Measurements are rarely perfect\n",
    "<figure><img src=\"figures/imperfect_imaging_system.svg\" style=\"height:300px\" align=\"middle\"></figure>\n",
    "\n",
    "### Factors affecting the image quality\n",
    "* Resolution (Imaging system transfer functions)\n",
    "* Noise\n",
    "* Contrast\n",
    "* Inhomogeneous contrast\n",
    "* Artifacts"
   ]
  },
  {
   "cell_type": "markdown",
   "metadata": {
    "slideshow": {
     "slide_type": "slide"
    }
   },
   "source": [
    "## Problematic segmentation tasks\n",
    "Intro"
   ]
  },
  {
   "cell_type": "markdown",
   "metadata": {
    "slideshow": {
     "slide_type": "subslide"
    }
   },
   "source": [
    "## Segmenation problems in neutron imaging"
   ]
  },
  {
   "cell_type": "markdown",
   "metadata": {
    "slideshow": {
     "slide_type": "slide"
    }
   },
   "source": [
    "# Limited data problem\n",
    "-\tTraining data from NI is limited\n",
    "-\tAugmentation\n",
    "-\tTransfer learning"
   ]
  },
  {
   "cell_type": "markdown",
   "metadata": {
    "slideshow": {
     "slide_type": "slide"
    }
   },
   "source": [
    "# Unsupervised segmentation\n",
    "-\te.g. k-means"
   ]
  },
  {
   "cell_type": "markdown",
   "metadata": {
    "slideshow": {
     "slide_type": "slide"
    }
   },
   "source": [
    "# Supervised segmentation\n",
    "-\te.g. k-NN, decision trees\n",
    "-\tNNs for segmentation"
   ]
  },
  {
   "cell_type": "markdown",
   "metadata": {
    "slideshow": {
     "slide_type": "slide"
    }
   },
   "source": [
    "## Baseline - Traditional spot cleaning algorithm\n",
    "\n",
    "<figure><img src=\"figures/spotclean_algorithm.svg\" style=\"height:400px\" align=\"middle\"></figure>\n",
    "\n",
    "#### Parameters\n",
    "\n",
    "- $N$ Width of median filter.\n",
    "- $k$ Threshold level for outlier detection."
   ]
  },
  {
   "cell_type": "markdown",
   "metadata": {
    "slideshow": {
     "slide_type": "slide"
    }
   },
   "source": [
    "# Final problem: Segmenting root networks in the rhizosphere using convolutional NNs\n",
    "-\tProblem definition\n",
    "-\tNN model\n",
    "-\tLoss functions\n",
    "-\tTraining\n",
    "-\tResults"
   ]
  },
  {
   "cell_type": "markdown",
   "metadata": {
    "slideshow": {
     "slide_type": "slide"
    }
   },
   "source": [
    "# Future Machine learning challenges in NI"
   ]
  }
 ],
 "metadata": {
  "celltoolbar": "Slideshow",
  "hide_input": false,
  "kernelspec": {
   "display_name": "Python 3",
   "language": "python",
   "name": "python3"
  },
  "language_info": {
   "codemirror_mode": {
    "name": "ipython",
    "version": 3
   },
   "file_extension": ".py",
   "mimetype": "text/x-python",
   "name": "python",
   "nbconvert_exporter": "python",
   "pygments_lexer": "ipython3",
   "version": "3.7.6"
  },
  "livereveal": {
   "autolaunch": true,
   "footer": "ML for neutron image segmentation - Anders Kaestner",
   "header": "<table width='100%' style='margin: 0px;'><tr><td align='left'><img src='figures/PSI-Logo.svg' style='height:50px;'></td></tr></table>",
   "scroll": true
  }
 },
 "nbformat": 4,
 "nbformat_minor": 4
}
