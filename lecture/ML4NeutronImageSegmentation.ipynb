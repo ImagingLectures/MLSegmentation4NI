{
 "cells": [
  {
   "cell_type": "markdown",
   "metadata": {
    "slideshow": {
     "slide_type": "notes"
    }
   },
   "source": [
    "# Machine learning to segment neutron images"
   ]
  },
  {
   "cell_type": "markdown",
   "metadata": {
    "slideshow": {
     "slide_type": "slide"
    }
   },
   "source": [
    "<p style=\"font-size:1.75em;padding-bottom: 1.0em;\"><b>Machine learning to segment neutron images</b></p>\n",
    "<p style=\"font-size:1.2em;padding-bottom: 0.25em;\">Anders Kaestner, Beamline scientist - Neutron Imaging</p>  \n",
    "<p style=\"font-size:1.2em;\">Laboratory for Neutron Scattering and Imaging<br />Paul Scherrer Institut</p>"
   ]
  },
  {
   "cell_type": "markdown",
   "metadata": {
    "slideshow": {
     "slide_type": "slide"
    }
   },
   "source": [
    "# Lecture outline"
   ]
  },
  {
   "cell_type": "markdown",
   "metadata": {
    "slideshow": {
     "slide_type": "notes"
    }
   },
   "source": [
    "In this lecture about machine learning to segment neutron images we will cover the following topics"
   ]
  },
  {
   "cell_type": "markdown",
   "metadata": {
    "slideshow": {
     "slide_type": "-"
    }
   },
   "source": [
    "1. Introduction\n",
    "2. Limited data problem\n",
    "3. Unsupervised segmentation\n",
    "4. Supervised segmentation\n",
    "5. Final problem: Segmenting root networks using convolutional NNs\n",
    "6. Future Machine learning challenges in NI"
   ]
  },
  {
   "cell_type": "markdown",
   "metadata": {
    "slideshow": {
     "slide_type": "subslide"
    }
   },
   "source": [
    "## Getting started\n",
    "If you want to run the notebook on your own computer, you'll need to perform the following step:\n",
    "- You will need to install Anaconda\n",
    "- Clone the lecture repository (in the location you'd like to have it)\n",
    "```bash\n",
    "git clone https://github.com/ImagingLectures/MLSegmentation4NI.git\n",
    "```\n",
    "- Enter the folder 'MLSegmentation'\n",
    "- Create an environment for the notebook\n",
    "```bash\n",
    "conda env create -f environment. yml -n MLSeg4NI\n",
    "```\n",
    "- Enter the environment\n",
    "```bash \n",
    "conda env activate MLSeg4NI\n",
    "```\n",
    "\n",
    "- Start jupyter and open the notebook ```lecture/ML4NeutronImageSegmentation.ipynb```\n",
    "\n",
    "- Use the notebook\n",
    "\n",
    "- Leave the environment\n",
    "```bash\n",
    "conda env deactivate\n",
    "```"
   ]
  },
  {
   "cell_type": "markdown",
   "metadata": {
    "slideshow": {
     "slide_type": "subslide"
    }
   },
   "source": [
    "## Importing needed modules\n",
    "This lecture needs some modules to run. We import all of them here."
   ]
  },
  {
   "cell_type": "code",
   "execution_count": null,
   "metadata": {
    "slideshow": {
     "slide_type": "-"
    }
   },
   "outputs": [],
   "source": [
    "import matplotlib.pyplot as plt\n",
    "import seaborn           as sn\n",
    "import numpy             as np\n",
    "import pandas            as pd\n",
    "import skimage.filters   as flt\n",
    "import skimage.io        as io\n",
    "import matplotlib        as mpl\n",
    "\n",
    "from sklearn.cluster     import KMeans\n",
    "from sklearn.neighbors   import KNeighborsClassifier\n",
    "from sklearn.metrics     import confusion_matrix\n",
    "from sklearn.datasets    import make_blobs\n",
    "\n",
    "from matplotlib.colors   import ListedColormap\n",
    "from matplotlib.patches  import Ellipse\n",
    "from lecturesupport      import plotsupport as ps\n",
    "\n",
    "import scipy.stats       as stats\n",
    "import astropy.io.fits   as fits\n",
    "\n",
    "import keras.metrics     as metrics\n",
    "import keras.losses      as loss\n",
    "import keras.optimizers  as opt\n",
    "from keras.models        import Model\n",
    "from keras.layers        import Input, Conv2D, MaxPooling2D, UpSampling2D, concatenate\n",
    "\n",
    "%matplotlib inline\n",
    "\n",
    "\n",
    "from IPython.display import set_matplotlib_formats\n",
    "set_matplotlib_formats('svg', 'png')\n",
    "#plt.style.use('seaborn')\n",
    "mpl.rcParams['figure.dpi'] = 300"
   ]
  },
  {
   "cell_type": "code",
   "execution_count": null,
   "metadata": {},
   "outputs": [],
   "source": [
    "import importlib\n",
    "importlib.reload(ps);"
   ]
  },
  {
   "cell_type": "markdown",
   "metadata": {
    "slideshow": {
     "slide_type": "slide"
    }
   },
   "source": [
    "# Introduction"
   ]
  },
  {
   "cell_type": "markdown",
   "metadata": {
    "slideshow": {
     "slide_type": "notes"
    }
   },
   "source": [
    "In this introduction part we give a starting point for the lecture. With topics like."
   ]
  },
  {
   "cell_type": "markdown",
   "metadata": {
    "slideshow": {
     "slide_type": "slide"
    }
   },
   "source": [
    "- Introduction to neutron imaging\n",
    "  - Some words about the method\n",
    "  - Contrasts\n",
    "  \n",
    "- Introduction to segmentation\n",
    "  - What is segmentation\n",
    "  - Noise and SNR\n",
    "  \n",
    "- Problematic segmentation tasks\n",
    "  - Intro\n",
    "  - Segmentation problems in neutron imaging\n",
    "  "
   ]
  },
  {
   "cell_type": "markdown",
   "metadata": {
    "slideshow": {
     "slide_type": "notes"
    }
   },
   "source": [
    "From these topics we will go into looking at how different machine learning techniques can be used to segment images. An in particular images obtained in neutron imaging experiments"
   ]
  },
  {
   "cell_type": "markdown",
   "metadata": {
    "slideshow": {
     "slide_type": "subslide"
    }
   },
   "source": [
    "## What is an image?"
   ]
  },
  {
   "cell_type": "markdown",
   "metadata": {
    "slideshow": {
     "slide_type": "notes"
    }
   },
   "source": [
    "In this lecture we are going to analyze the contents of images, but first lets define what an image is."
   ]
  },
  {
   "cell_type": "markdown",
   "metadata": {
    "slideshow": {
     "slide_type": "-"
    }
   },
   "source": [
    "A very abstract definition: \n",
    "- __A pairing between spatial information (position)__\n",
    "- __and some other kind of information (value).__\n",
    "\n",
    "In most cases this is a two- or three-dimensional position (x,y,z coordinates) and a numeric value (intensity)\n",
    "<img src=\"figures/imagesampling.svg\" style=\"height:500px\" />"
   ]
  },
  {
   "cell_type": "markdown",
   "metadata": {
    "slideshow": {
     "slide_type": "notes"
    }
   },
   "source": [
    "In reality it can be many things like a picture, a radiograph, a matrix presentation of a raster scan and so on. In the case of volume images we are talking about volume representations like a tomography or time series like movies.\n",
    "```{figure} figures/imagesampling.pdf\n",
    "---\n",
    "scale: 75%\n",
    "---\n",
    "The real world is sampled into discrete images with limited extent.\n",
    "```"
   ]
  },
  {
   "cell_type": "markdown",
   "metadata": {
    "slideshow": {
     "slide_type": "subslide"
    }
   },
   "source": [
    "## Science and Imaging\n",
    "Images are great for qualitative analyses since our brains can quickly interpret them without large _programming_ investements."
   ]
  },
  {
   "cell_type": "markdown",
   "metadata": {
    "slideshow": {
     "slide_type": "notes"
    }
   },
   "source": [
    "This is also the reason why image processing can be very frustrating. Seeing a feature in the image may be obvious to the human eye, but it can be very hard to write an algorithm that makes the same conclusion. In particular, when you are using traditional image processing techniques. This is an classic area for machine learning, these methods are designed and trained to recognize patterns and features in the images. Still, they can only perform well on the type of data they are trained with."
   ]
  },
  {
   "cell_type": "markdown",
   "metadata": {
    "slideshow": {
     "slide_type": "subslide"
    }
   },
   "source": [
    "### Proper processing and quantitative analysis is however much more difficult with images.\n",
    " - If you measure a temperature, quantitative analysis is easy, $T=50K$.\n",
    " - If you measure an image it is much more difficult and much more prone to mistakes, \n",
    "     - subtle setup variations may break you analysis process, \n",
    "     - and confusing analyses due to unclear problem definition\n",
    "\n",
    "\n",
    "### Furthermore in image processing there is a plethora of tools available\n",
    "\n",
    "- Thousands of algorithms available\n",
    "- Thousands of tools\n",
    "- Many images require multi-step processing\n",
    "- Experimenting is time-consuming"
   ]
  },
  {
   "cell_type": "markdown",
   "metadata": {
    "slideshow": {
     "slide_type": "subslide"
    }
   },
   "source": [
    "## Some word about neutron imaging\n",
    "<img src=\"figures/collimator.svg\" style=\"height:600px\" align=\"middle\">\n"
   ]
  },
  {
   "cell_type": "markdown",
   "metadata": {
    "slideshow": {
     "slide_type": "notes"
    }
   },
   "source": [
    "Neutron imaging is a method based on transmission of the neutron radiation through a sample, i.e. the fundamental information is a radiograph. In this sense it is very much similar to the more known x-ray imaging. The basic outline in the figure below show the components source, collimator, sample, and detector. The neutron beam is slightly divergent, but it can mostly be approximated by a parallel beam. \n",
    "\n",
    "```{figure} figures/collimator.pdf\n",
    "---\n",
    "scale: 75%\n",
    "---\n",
    "Schematic transmission imaging setup.\n",
    "```\n",
    "\n",
    "The intensity in a radiographic image proportional to the amount of radiation that remains after it was transmitted through the sample. "
   ]
  },
  {
   "cell_type": "markdown",
   "metadata": {
    "slideshow": {
     "slide_type": "-"
    }
   },
   "source": [
    "The transmitted radiation is described by Beer-Lambert's law which in its basic form looks like\n",
    "\n",
    "$$I=I_0\\cdot{}e^{-\\int_L \\mu{}(x) dx}$$"
   ]
  },
  {
   "cell_type": "markdown",
   "metadata": {
    "slideshow": {
     "slide_type": "notes"
    }
   },
   "source": [
    "```{figure} figures/AttenuationLaw.pdf\n",
    "---\n",
    "scale: 30%\n",
    "---\n",
    "Transmission plot through a sample.\n",
    "```\n",
    "\n",
    "Where $\\mu(x)$ is the attenuation coefficient of the sample at position _x_. This equation is a simplification as no source has a uniform spectrum and the attenuation coefficient depends on the radiation energy. We will touch the energy dispersive property in one of the segmentation examples later.\n",
    "\n",
    "Single radiographs are relatively rare. In most experiments the radiographs are part of a time series aquisition or projections for the 3D tomography reconstuction. In this lecture we are not going very much into the details about the imaging method as such. This is a topic for other schools that are offered. "
   ]
  },
  {
   "cell_type": "markdown",
   "metadata": {
    "slideshow": {
     "slide_type": "subslide"
    }
   },
   "source": [
    "### Image types obtained with neutron imaging\n",
    "| Fundamental information | Additional dimensions | Derived information |\n",
    "|:---:|:---:|:---:|\n",
    "|__2D__ Radiography | Time series | q-values |\n",
    "|__3D__ Tomography | Spectra | strain |\n",
    "| | | Crystal orientation|\n",
    "\n"
   ]
  },
  {
   "cell_type": "markdown",
   "metadata": {
    "slideshow": {
     "slide_type": "subslide"
    }
   },
   "source": [
    "## Neutron imaging contrast"
   ]
  },
  {
   "cell_type": "markdown",
   "metadata": {
    "slideshow": {
     "slide_type": "notes"
    }
   },
   "source": [
    "The integral of Beer-Lambert's law turns into a sum for simple material compositions like in the sample in the figure below\n",
    "\n",
    "```{figure} figures/porous_media_sand.pdf\n",
    "---\n",
    "scale: 50%\n",
    "---\n",
    "The transmission through a sample can be divied into contributions for each material.\n",
    "```\n",
    "\n",
    "The amount of radiation passing through the sample depends on the attenuation coefficients which are material and radiation specific. The periodic systems below illustrate how diffent elements attenuate for neutrons and X-rays\n",
    "\n",
    "```{figure} figures/Periodic_table_neutron.pdf\n",
    "---\n",
    "scale: 75%\n",
    "---\n",
    "Attenuation coefficients for thermal neutrons.\n",
    "```\n",
    "\n",
    "```{figure} figures/Periodic_table_Xray.pdf\n",
    "---\n",
    "scale: 75%\n",
    "---\n",
    "Attenuation coefficients for X-rays.\n",
    "```"
   ]
  },
  {
   "cell_type": "markdown",
   "metadata": {
    "slideshow": {
     "slide_type": "-"
    }
   },
   "source": [
    "<table style=\"width:100%\">\n",
    "  <hr>\n",
    "    <td>Transmission through sample</td>\n",
    "    <td>X-ray attenuation</td>\n",
    "    <td>Neutron attenuation</td>\n",
    "  </hr>\n",
    "\n",
    "  <tr>\n",
    "    <td><img src=\"figures/porous_media_sand.svg\" width=\"600px\"/></td>\n",
    "    <td><img src=\"figures/Periodic_table_Xray.svg\" width=\"800px\"/></td>\n",
    "    <td><img src=\"figures/Periodic_table_neutron.svg\" width=\"800px\"/></td>\n",
    "  </tr>\n",
    "</table>"
   ]
  },
  {
   "cell_type": "markdown",
   "metadata": {
    "slideshow": {
     "slide_type": "slide"
    }
   },
   "source": [
    "## Measurements are rarely perfect\n",
    "<figure><img src=\"figures/imperfect_imaging_system.svg\" style=\"height:500px\" align=\"middle\"></figure>"
   ]
  },
  {
   "cell_type": "markdown",
   "metadata": {
    "slideshow": {
     "slide_type": "notes"
    }
   },
   "source": [
    "There is no perfect measurement. This is also true for neutron imaging. The ideal image is the sample is distorted for many reasons. The figure below shows how an image of a sample can look after passing though the acquisition system. These quailty degradations will have an impact on the analysis of the image data. In some cases, it is possible to correct for some of these artifacts using classing image processing techniques. There are however also cases that require extra effort to correct the artifacts.  \n",
    "\n",
    "```{figure} figures/imperfect_imaging_system.pdf\n",
    "---\n",
    "scale: 75%\n",
    "---\n",
    "Schematic showing the error contributions in an imperfect imaging system.\n",
    "```"
   ]
  },
  {
   "cell_type": "markdown",
   "metadata": {
    "slideshow": {
     "slide_type": "subslide"
    }
   },
   "source": [
    "### Factors affecting the image quality"
   ]
  },
  {
   "cell_type": "markdown",
   "metadata": {
    "slideshow": {
     "slide_type": "notes"
    }
   },
   "source": [
    "The list below provides some factors that affect the quality of the acquired images. Most of them can be handled by changing the imaging configuration in some sense. It can however be that the sample or process observed put limitiations on how much the acquisition can be tuned to obtain the perfect image."
   ]
  },
  {
   "cell_type": "markdown",
   "metadata": {
    "slideshow": {
     "slide_type": "-"
    }
   },
   "source": [
    "* Resolution (Imaging system transfer functions)\n",
    "* Noise\n",
    "* Contrast\n",
    "* Inhomogeneous contrast\n",
    "* Artifacts"
   ]
  },
  {
   "cell_type": "markdown",
   "metadata": {
    "slideshow": {
     "slide_type": "notes"
    }
   },
   "source": [
    "#### Resolution\n",
    "The resolution is primarily determined optical transfer function of the imaging system. The actual resolution is given by the extents of the sample and how much the detector needs to capture in one image. This gives the field of view and given the number pixels in the used detector it is possible to calculate the pixel size. The pixel size limits the size of the smallest feature in the image that can be detected. The scintillator, which is used to convert neutrons into visible light, is chosen to \n",
    "1. match the sampling rate given by the pixel size.\n",
    "2. provide sufficient neutron capture to obtain sufficient light output for a given exposure time.\n",
    "\n",
    "#### Noise\n",
    "An imaging system has many noise sources, each with its own distribution e.g.\n",
    "1. Neutron statistics - how many neutrons are collected in a pixel. This noise is Poisson distributed. \n",
    "2. Photon statistics - how many photons are produced by each neutron. This noise is also Poisson distributed.\n",
    "3. Thermal noise from the electronics which has a Gaussian distribution.\n",
    "4. Digitation noise from converting the charges collected for the photons into digital numbers that can be transfered and stored by a computer, this noise has a binominal distribution.\n",
    "\n",
    "The neutron statistics are mostly dominant in neutron imaging but in some cases it could also be that the photon statistics play a role. \n",
    "\n",
    "#### Contrast\n",
    "The contrast in the sample is a consequence of \n",
    "1. how well the sample transmits the chosen radiation type. For neutrons you obtain good contrast from materials containing hydrogen or lithium while many metals are more transparent.\n",
    "2. the amount of a specific element or material represented in a unit cell, e.g. a pixel (radiograph) or a voxel (tomography). \n",
    "\n",
    "The objective of many experiments is to quantify the amount of a specific material. This could for example be the amount of water in a porous medium.\n",
    "\n",
    "Good contrast between different image features is important if you want to segment them to make conclusions about the image content. Therefore, the radiation type should be chosen to provide the best contrast between the features.\n",
    "\n",
    "#### Inhomogeneous contrast\n",
    "The contrast in the raw radiograph depends much on the beam profile. These variations are easily corrected by normalizing the images by an open beam or flat field image. \n",
    "\n",
    "- __Biases introduced by scattering__ Scattering is the dominant interaction for many materials use in neutron imaging. This means that neutrons that are not passing straight though the sample are scattered and contribute to a background cloud of neutrons that build up a bias of neutron that are also detected and contribute to the \n",
    "\n",
    "- __Biases from beam hardening__ is a problem that is more present in x-ray imaging and is caused by that fact that the attenuation coefficient depends on the energy of the radiation. Higher energies have lower attenuation coefficient, thus will high energies penetrate the thicker samples than lower energies. This can be seen when a polychromatic beam is used. \n",
    "\n",
    "#### Artifacts\n",
    "Many images suffer from outliers caused by stray rays hitting the detector. Typical artefacts in tomography data are\n",
    "- Lines, which are caused by outlier spots that only appear in single projections. These spot appear as lines in the reconstructed images.\n",
    "- Rings are caused by stuck pixels which have the same value in a projections."
   ]
  },
  {
   "cell_type": "markdown",
   "metadata": {
    "slideshow": {
     "slide_type": "subslide"
    }
   },
   "source": [
    "## Introduction to segmentation"
   ]
  },
  {
   "cell_type": "markdown",
   "metadata": {
    "slideshow": {
     "slide_type": "notes"
    }
   },
   "source": [
    "The basic task of segmentation is to identify regions of pixels with similar properties. This can be on different levels of abstraction. The lowest level is to create segments of pixels based on their pixel values like in the LANDSAT image below.  \n",
    "```{figure} figures/landsat_example.pdf\n",
    "---\n",
    "scale: 50%\n",
    "---\n",
    "Segmentation of a satelite image to identify different land types.\n",
    "```\n",
    "\n",
    "This type of segmentation sometimes be done with the help of a histogram that shows the distribution of values in the image."
   ]
  },
  {
   "cell_type": "markdown",
   "metadata": {
    "slideshow": {
     "slide_type": "-"
    }
   },
   "source": [
    "<figure><img src=\"figures/landsat_example.svg\" style=\"height:800px\"/></figure>"
   ]
  },
  {
   "cell_type": "markdown",
   "metadata": {
    "slideshow": {
     "slide_type": "subslide"
    }
   },
   "source": [
    "## Different types of segmentation"
   ]
  },
  {
   "cell_type": "markdown",
   "metadata": {
    "slideshow": {
     "slide_type": "notes"
    }
   },
   "source": [
    "When we talk about image segmentation there are different meanings to the word. In general, segmenation is an operation that marks up the image based on pixels or pixel regions. This is a task that has been performed since beginning of image processing as it is a natural step in the workflow to analyze images - we must know which regions we want to analyze and this is a tedious and error prone task to perform manually. Looking at the figure below we two type of segmentation."
   ]
  },
  {
   "cell_type": "markdown",
   "metadata": {
    "slideshow": {
     "slide_type": "-"
    }
   },
   "source": [
    "![](figures/imagesegmentation.png)"
   ]
  },
  {
   "cell_type": "markdown",
   "metadata": {
    "slideshow": {
     "slide_type": "notes"
    }
   },
   "source": [
    "- Object detection - identifies regions containing an object. The exact boundary does not matter so much here. We are only interested in a bounding box.\n",
    "- Semantic segmentation - classifies all the pixels of an image into meaningful classes of objects. These classes are “semantically interpretable” and correspond to real-world categories. For instance, you could isolate all the pixels associated with a cat and color them green. This is also known as dense prediction because it predicts the meaning of each pixel.\n",
    "\n",
    "- Instance segmentation - Identifies each instance of each object in an image. It differs from semantic segmentation in that it doesn’t categorize every pixel. If there are three cars in an image, semantic segmentation classifies all the cars as one instance, while instance segmentation identifies each individual car."
   ]
  },
  {
   "cell_type": "markdown",
   "metadata": {
    "slideshow": {
     "slide_type": "subslide"
    }
   },
   "source": [
    "### Basic segmentation: Applying a threshold to an image\n",
    "Start out with a simple image of a cross with added noise\n",
    "\n",
    "$$ I(x,y) = f(x,y) $$"
   ]
  },
  {
   "cell_type": "markdown",
   "metadata": {
    "slideshow": {
     "slide_type": "notes"
    }
   },
   "source": [
    "Here, we create a test image with two features embedded in uniform noise; a cross with values in the order of '1' and background with values in the order '0'. The figure below shows the image and its histogram. The histogram helps us to see how the graylevels are distributed which guides the decision where to put a threshold that segments the cross from the background."
   ]
  },
  {
   "cell_type": "code",
   "execution_count": null,
   "metadata": {},
   "outputs": [],
   "source": [
    "fig,ax = plt.subplots(1,2,figsize=(12,6))\n",
    "nx = 5; ny = 5;\n",
    "# Create the test image\n",
    "xx, yy   = np.meshgrid(np.arange(-nx, nx+1)/nx*2*np.pi, np.arange(-ny, ny+1)/ny*2*np.pi)\n",
    "cross_im = 1.5*np.abs(np.cos(xx*yy))/(np.abs(xx*yy)+(3*np.pi/nx)) + np.random.uniform(-0.25, 0.25, size = xx.shape)       \n",
    "\n",
    "# Show it\n",
    "im=ax[0].imshow(cross_im, cmap = 'hot'); ax[0].set_title(\"Image\")\n",
    "ax[1].hist(cross_im.ravel(),bins=10); ax[1].set_xlabel('Gray value'); ax[1].set_ylabel('Counts'); ax[1].set_title(\"Histogram\");"
   ]
  },
  {
   "cell_type": "markdown",
   "metadata": {
    "slideshow": {
     "slide_type": "subslide"
    }
   },
   "source": [
    "### Applying a threshold to an image"
   ]
  },
  {
   "cell_type": "markdown",
   "metadata": {
    "slideshow": {
     "slide_type": "notes"
    }
   },
   "source": [
    "By examining the image and probability distribution function, we can _deduce_ that the underyling model is a whitish phase that makes up the cross and the darkish background"
   ]
  },
  {
   "cell_type": "markdown",
   "metadata": {
    "slideshow": {
     "slide_type": "-"
    }
   },
   "source": [
    "Applying the threshold is a deceptively simple operation\n",
    "\n",
    "$$ I(x,y) = \n",
    "\\begin{cases}\n",
    "1, & f(x,y)\\geq0.40 \\\\\n",
    "0, & f(x,y)<0.40\n",
    "\\end{cases}$$\n"
   ]
  },
  {
   "cell_type": "code",
   "execution_count": null,
   "metadata": {},
   "outputs": [],
   "source": [
    "threshold = 0.4; thresh_img = cross_im > threshold\n",
    "fig,ax = plt.subplots(1,2,figsize=(12,6))\n",
    "ax[0].imshow(cross_im, cmap = 'hot', extent = [xx.min(), xx.max(), yy.min(), yy.max()]); ax[0].set_title(\"Image\")\n",
    "ax[0].plot(xx[np.where(thresh_img)]*0.9, yy[np.where(thresh_img)]*0.9,\n",
    "           'ks', markerfacecolor = 'green', alpha = 0.5,label = 'Threshold', markersize = 22); ax[0].legend(fontsize=12);\n",
    "ax[1].hist(cross_im.ravel(),bins=10); ax[1].axvline(x=threshold,color='r',label='Threshold'); ax[1].legend(fontsize=12); \n",
    "ax[1].set_xlabel('Gray value'); ax[1].set_ylabel('Counts'); ax[1].set_title(\"Histogram\");"
   ]
  },
  {
   "cell_type": "markdown",
   "metadata": {
    "slideshow": {
     "slide_type": "notes"
    }
   },
   "source": [
    "In this fabricated example we saw that thresholding can be a very simple and quick solution to the segmentation problem. Unfortunately, real data is often less obvious. The features we want to identify for our qantitative analysis are often obscured be different other features in the image. They may be part of the setup of caused by the acquisition conditions."
   ]
  },
  {
   "cell_type": "markdown",
   "metadata": {
    "slideshow": {
     "slide_type": "subslide"
    }
   },
   "source": [
    "\n",
    "## Noise and SNR"
   ]
  },
  {
   "cell_type": "markdown",
   "metadata": {
    "slideshow": {
     "slide_type": "notes"
    }
   },
   "source": [
    "Any measurement has a noise component and this noise has to be dealt with in some way when the image is to be segmented. When the noise is not handled correctly it will cause many misclassified pixels. The noise strength of measured using the signal to noise ratio __SNR__. It is defined as the ratio between signal average and signal standard deviation. "
   ]
  },
  {
   "cell_type": "markdown",
   "metadata": {
    "slideshow": {
     "slide_type": "-"
    }
   },
   "source": [
    "The noise in neutron imaging mainly originates from the amount of captured neutrons.\n",
    "\n",
    "<figure><img src=\"figures/snrhanoi.svg\" style=\"width:1000px\"></figure>\n",
    "\n",
    "This noise is Poisson distributed and the signal to noise ratio is\n",
    "\n",
    "$$SNR=\\frac{E[x]}{s[x]}\\sim\\frac{N}{\\sqrt{N}}=\\sqrt{N}$$"
   ]
  },
  {
   "cell_type": "markdown",
   "metadata": {
    "slideshow": {
     "slide_type": "notes"
    }
   },
   "source": [
    "where _N_ is the number of captured neutrons. The figure below shows two neutron images acquired at 0.1s and 10s respectively. The plot shows the signal to noise ratio obtained for different exposure times.\n",
    "```{figure} figures/snrhanoi.pdf\n",
    "---\n",
    "scale: 75%\n",
    "---\n",
    "Signal to noise ratio for radiographies acqired with different exposure times.\n",
    "```\n",
    "The signal to noise ratio can be improved by increasing the number of neutrons per pixel. This can be achived through increasing\n",
    "- Neutron flux - this is usually relatively hard as the neutron sources operate with the parameters it is designed for. There is a posibilty by changing the neutron aperture, but has an impact of the beam quality.\n",
    "- Exposure time - the exposure time can be increased but in the end there is a limitation on how much this can be used. Beam time is limited which means the experiment must be finished in a given time. There is also an upper limit on the exposure time defined by the observed sample or process when it changes over time. Too long exposure times will result in motion artefacts.\n",
    "- Pixel size - increasing the pixel size means that neutrons are collected over a greater area and thus more neutrons are captured during the exposure. The limit on how much you can increase the pixel size is defined by the smallest features you want to detect.\n",
    "- Detector material and thickness - the number of captured neutrons depends on the scintillator material and how thick it is. The thickness does however have an impact on the resolution. Therefore scintillator thickness and pixel size often increase in parallel as there is no point in oversampling a smooth signal to much.\n",
    "\n",
    "In the end, there are many parameters that combined results in the SNR you obtain. These parameters are tuned to match the experiment conditions. Filtering techniques can help to increase the SNR still it is too low for your quantitative analysis."
   ]
  },
  {
   "cell_type": "markdown",
   "metadata": {
    "slideshow": {
     "slide_type": "subslide"
    }
   },
   "source": [
    "## Problematic segmentation tasks"
   ]
  },
  {
   "cell_type": "markdown",
   "metadata": {
    "slideshow": {
     "slide_type": "notes"
    }
   },
   "source": [
    "Segmentation is rarely an obvious task. What you want to find is often obscured by other image features and unwanted artefacts from the experiment technique. If you take a glance at the painting by Bev Doolittle, you quickly spot the red fox in the middle. Looking a little closer at the painting, you'll recognize two indians on their spotted ponies. This example illustrates the problems you will encounter when you start to work with image segmentation.\n",
    "\n",
    "```{figure} figures/doolittle_woodlandencounter.png\n",
    "---\n",
    "scale: 75%\n",
    "---\n",
    "Cases making the segmentation task harder than just applying a single thresshold.\n",
    "```"
   ]
  },
  {
   "cell_type": "markdown",
   "metadata": {
    "slideshow": {
     "slide_type": "-"
    }
   },
   "source": [
    "<figure><img src=\"figures/doolittle_woodlandencounter.png\" style=\"height:500px\" /></figure>\n",
    "\n",
    "_Woodland Encounter_ Bev Doolittle"
   ]
  },
  {
   "cell_type": "markdown",
   "metadata": {
    "slideshow": {
     "slide_type": "subslide"
    }
   },
   "source": [
    "### Typical image features that makes life harder"
   ]
  },
  {
   "cell_type": "markdown",
   "metadata": {
    "slideshow": {
     "slide_type": "notes"
    }
   },
   "source": [
    "The basic segmentation shown in the example above can only be used under good conditions when the classes are well separated. Images from many experiments are unfortunately not well-behaved in many cases. The figure below shows four different cases when an advanced technique is needed to segment the image. Neutron images often show a combination of all cases. \n",
    "```{figure} figures/trickycases.pdf\n",
    "---\n",
    "scale: 75%\n",
    "---\n",
    "Cases making the segmentation task harder than just applying a single thresshold.\n",
    "```\n",
    "\n",
    "The impact on the segmentation performance of all these cases can be reduced by proper experiment planning. Still, sometimes these improvements are not fully implemented in the experiment to be able to fulfill other experiment criteria.  "
   ]
  },
  {
   "cell_type": "markdown",
   "metadata": {
    "slideshow": {
     "slide_type": "-"
    }
   },
   "source": [
    "<figure><img src='figures/trickycases.svg' height=\"500px\"/></figure>\n",
    "\n",
    "In neutron imaging you see all these image phenomena."
   ]
  },
  {
   "cell_type": "markdown",
   "metadata": {
    "slideshow": {
     "slide_type": "skip"
    }
   },
   "source": [
    "## Segmentation problems in neutron imaging"
   ]
  },
  {
   "cell_type": "markdown",
   "metadata": {
    "slideshow": {
     "slide_type": "slide"
    }
   },
   "source": [
    "# Limited data problem"
   ]
  },
  {
   "cell_type": "markdown",
   "metadata": {
    "slideshow": {
     "slide_type": "notes"
    }
   },
   "source": [
    "Machine learning methods require a lot of training data to be able to build good models that are able to detect the features they are intended to. "
   ]
  },
  {
   "cell_type": "markdown",
   "metadata": {
    "slideshow": {
     "slide_type": "-"
    }
   },
   "source": [
    "_Different types of limited data_:\n",
    "- Few data points or limited amounts of images"
   ]
  },
  {
   "cell_type": "markdown",
   "metadata": {
    "slideshow": {
     "slide_type": "notes"
    }
   },
   "source": [
    "This is very often the case in neutron imaging. The number of images collected during an experiment session is often very low due to the long experiment duration and limited amount of beam time. This makes it hard to develop segmentation and analysis methods for single experiments. The few data points problem can partly be overcome by using data from previous experiment with similar characteristics. The ability to recycle data depends on what you want to detect in the images. "
   ]
  },
  {
   "cell_type": "markdown",
   "metadata": {
    "slideshow": {
     "slide_type": "-"
    }
   },
   "source": [
    "- Unbalanced data"
   ]
  },
  {
   "cell_type": "markdown",
   "metadata": {
    "slideshow": {
     "slide_type": "notes"
    }
   },
   "source": [
    "Unbalanced data means that the ratio between the data points with features you want detect and the total number data points is several orders of magnitude. E.g roots in a volume like the example we will look at later in this lecture. There is even a risk that the distribution of the wanted features is overlapped by the dominating background distribution.\n",
    "```{figure} figures/classunbalance.pdf\n",
    "---\n",
    "scale: 100%\n",
    "---\n",
    "Two cases of unblanaced data; (a) the classes are well separated and the feature class is clearly visible in the tail distribution of the background and (b) the feature class is embeded in the background making it hard to detect.\n",
    "```\n",
    "\n",
    "Case (a) can most likely be segmented using one of the many histogram based thresholding methods proposed in literature. Case (b) is much harder to segment as the target features have similar gray levels as the background. This case requires additional information to make segmentation posible."
   ]
  },
  {
   "cell_type": "markdown",
   "metadata": {},
   "source": [
    "<figure><img src=\"figures/classunbalance.svg\"></figure>"
   ]
  },
  {
   "cell_type": "markdown",
   "metadata": {
    "slideshow": {
     "slide_type": "-"
    }
   },
   "source": [
    "- Little or missing training data"
   ]
  },
  {
   "cell_type": "markdown",
   "metadata": {
    "slideshow": {
     "slide_type": "notes"
    }
   },
   "source": [
    "A complete set of training data contains both input data and labelled data. The input data is easy to obtain, it is the images you measured during your experiment. The labelled data is harder to get as it is a kind of chicken and egg problem. In particular, if your experiment data is limited. In that case, you would have to mark-up most of the available data to obtain the labeled data. Which doesn't make sense because \n",
    "- then you'd already solved the task before even starting to train your segmentation algorithm. \n",
    "- An algorithm based on learning doesn't improve the results, it only make it easier to handle large amounts of data."
   ]
  },
  {
   "cell_type": "markdown",
   "metadata": {
    "slideshow": {
     "slide_type": "subslide"
    }
   },
   "source": [
    "## Training data from NI is limited"
   ]
  },
  {
   "cell_type": "markdown",
   "metadata": {
    "slideshow": {
     "slide_type": "notes"
    }
   },
   "source": [
    "The introducing words about limited data essentially describes the problems that arise in neutron imaging. There are several reasons for this. Some are:"
   ]
  },
  {
   "cell_type": "markdown",
   "metadata": {},
   "source": [
    "- Long experiment times\n",
    "- Few samples\n",
    "- Some recycling from previous experiments is posible."
   ]
  },
  {
   "cell_type": "markdown",
   "metadata": {
    "slideshow": {
     "slide_type": "notes"
    }
   },
   "source": [
    "The experiment times are usually rather long which results in only few data sets per experiment. In some cases there is the advantage that there are plenty experiments over the years that produced data with similar characteristics. These experiments can be used in a pool of data. "
   ]
  },
  {
   "cell_type": "markdown",
   "metadata": {
    "slideshow": {
     "slide_type": "subslide"
    }
   },
   "source": [
    "## Augmentation to increase training data"
   ]
  },
  {
   "cell_type": "markdown",
   "metadata": {
    "slideshow": {
     "slide_type": "notes"
    }
   },
   "source": [
    "Obtaining more experiment data is mostly relatively hard in neutron imaging. The available time is very limited. Still, many supervised analysis methods require large data sets to perform reliably. A method to improve this situation is to use data augmentation. The figure below shows some examples of augmentations of the same image. You can also add noise and modulate the image intensity to increase the variations further.\n",
    "```{figure} figures/Augmentations.pdf\n",
    "---\n",
    "scale: 100%\n",
    "---\n",
    "A retinal image modified using different augmentation techniques (source: https://drive.grand-challenge.org/DRIVE/) prepared by Gian Guido Parenza.\n",
    "```"
   ]
  },
  {
   "cell_type": "markdown",
   "metadata": {},
   "source": [
    "Data augmentation is a method modify your exisiting data to obtain variations of it.\n",
    "<figure>\n",
    "<img src=\"figures/Augmentations.svg\" style=\"height:500px\">\n",
    "</figure>"
   ]
  },
  {
   "cell_type": "markdown",
   "metadata": {},
   "source": [
    "Augmentation will be used to increase the training data in the root segmenation example in the end of this lecture."
   ]
  },
  {
   "cell_type": "markdown",
   "metadata": {
    "slideshow": {
     "slide_type": "subslide"
    }
   },
   "source": [
    "## Simulation to increase training data"
   ]
  },
  {
   "cell_type": "markdown",
   "metadata": {
    "slideshow": {
     "slide_type": "notes"
    }
   },
   "source": [
    "A further way to increase training data is to build a model of the features you want to train on. This approach has the advantage that you know where to look for the features which means the tedious annotation task is reduced to a minimum. The work rather lies in building a relieable model that should reflect the characteristics of features you want to segments. Once a valid model is built, it is easy to generate masses of data under variuos conditions."
   ]
  },
  {
   "cell_type": "markdown",
   "metadata": {},
   "source": [
    "- Geometric models\n",
    "- Template models\n",
    "- Physical models\n",
    "\n",
    "Both augmented and simulated data should be combined with real data."
   ]
  },
  {
   "cell_type": "markdown",
   "metadata": {
    "slideshow": {
     "slide_type": "subslide"
    }
   },
   "source": [
    "## Transfer learning"
   ]
  },
  {
   "cell_type": "markdown",
   "metadata": {
    "slideshow": {
     "slide_type": "notes"
    }
   },
   "source": [
    "Many machine learning techniques also have the ability to remember what they learned before. This effect can be used to improve the performance also when little data is available from the current experiment."
   ]
  },
  {
   "cell_type": "markdown",
   "metadata": {},
   "source": [
    "Transfer learning is a technique that uses a pre-trained network to\n",
    "- Speed up training on your current data\n",
    "- Support in cases of limited data\n",
    "- Improve network performance"
   ]
  },
  {
   "cell_type": "markdown",
   "metadata": {
    "slideshow": {
     "slide_type": "notes"
    }
   },
   "source": [
    "Usually, the input and downsampling part of the network is used from the pre trained network. It can be set as constant or trainable. The upsampling and output will be trained with new data from your current data set. Transfer learning will be covered in the root segmentation example in the end of this lecture."
   ]
  },
  {
   "cell_type": "markdown",
   "metadata": {
    "slideshow": {
     "slide_type": "slide"
    }
   },
   "source": [
    "# Unsupervised segmentation"
   ]
  },
  {
   "cell_type": "markdown",
   "metadata": {
    "slideshow": {
     "slide_type": "notes"
    }
   },
   "source": [
    "Unsupervised segmentation method tries to make sense of the that without any prior knowledge. They may need an initialization parameter telling how many classes are expected in the data, but beyond that you don't have to provide much more information. "
   ]
  },
  {
   "cell_type": "markdown",
   "metadata": {
    "slideshow": {
     "slide_type": "subslide"
    }
   },
   "source": [
    "## Introducing clustering"
   ]
  },
  {
   "cell_type": "markdown",
   "metadata": {
    "slideshow": {
     "slide_type": "notes"
    }
   },
   "source": [
    "With clustering methods you aim to group data points together into a limited number of clusters. Here, we start to look at an example where each data point has two values. The test data is generated using the ```make_blobs``` function. "
   ]
  },
  {
   "cell_type": "code",
   "execution_count": null,
   "metadata": {},
   "outputs": [],
   "source": [
    "test_pts = pd.DataFrame(make_blobs(n_samples=200, random_state=2018)[\n",
    "                        0], columns=['x', 'y'])\n",
    "plt.plot(test_pts.x, test_pts.y, 'r.');"
   ]
  },
  {
   "cell_type": "markdown",
   "metadata": {
    "slideshow": {
     "slide_type": "notes"
    }
   },
   "source": [
    "The generated data set has two obvoius clusters, but if look closer it is even possible to identify three clusters. We will now use this data to try the k-means algorithm."
   ]
  },
  {
   "cell_type": "markdown",
   "metadata": {
    "slideshow": {
     "slide_type": "subslide"
    }
   },
   "source": [
    "## k-means"
   ]
  },
  {
   "cell_type": "markdown",
   "metadata": {
    "slideshow": {
     "slide_type": "notes"
    }
   },
   "source": [
    "The k-means algorithm is one of the most used unsupervised clustering method.  "
   ]
  },
  {
   "cell_type": "markdown",
   "metadata": {},
   "source": [
    "<figure><img src=\"figures/FuzzyCMeans.svg\" style=\"height:800px\"/></figure>"
   ]
  },
  {
   "cell_type": "markdown",
   "metadata": {
    "slideshow": {
     "slide_type": "notes"
    }
   },
   "source": [
    "It is an iterative method that starts with a label image where each pixel has a random label assignment. Each iteration involves the following steps:\n",
    "1. Compute current centroids based on the o current labels\n",
    "2. Compute the value distance for each pixel to the each centroid. Select the class which is closest. \n",
    "3. Reassign the class value in the label image.\n",
    "4. Repeat until no pixels are updated.\n",
    "\n",
    "The distance from pixel _i_ to centroid _j_ is usually computed as $||p_i - c_j||_2$.\n",
    "\n",
    "```{figure} figures/FuzzyCMeans.pdf\n",
    "---\n",
    "scale: 100%\n",
    "---\n",
    "Flow chart for the k-means clustering iterations. \n",
    "```"
   ]
  },
  {
   "cell_type": "markdown",
   "metadata": {
    "slideshow": {
     "slide_type": "-"
    }
   },
   "source": [
    "The user only have to provide the number of classes the algorithm shall find.\n",
    "\n",
    "__Note__ The algorithm will find exactly the number you ask it to, it doesn't care if it makes sense!"
   ]
  },
  {
   "cell_type": "markdown",
   "metadata": {
    "slideshow": {
     "slide_type": "subslide"
    }
   },
   "source": [
    "## Basic clustering example"
   ]
  },
  {
   "cell_type": "markdown",
   "metadata": {
    "slideshow": {
     "slide_type": "notes"
    }
   },
   "source": [
    "In this example we will use the blob data we previously generated and to see how k-means behave when we select different numbers of clusters."
   ]
  },
  {
   "cell_type": "code",
   "execution_count": 1,
   "metadata": {},
   "outputs": [
    {
     "ename": "NameError",
     "evalue": "name 'plt' is not defined",
     "output_type": "error",
     "traceback": [
      "\u001b[0;31m---------------------------------------------------------------------------\u001b[0m",
      "\u001b[0;31mNameError\u001b[0m                                 Traceback (most recent call last)",
      "\u001b[0;32m<ipython-input-1-ba7fe5c34e29>\u001b[0m in \u001b[0;36m<module>\u001b[0;34m\u001b[0m\n\u001b[1;32m      1\u001b[0m \u001b[0mN\u001b[0m\u001b[0;34m=\u001b[0m\u001b[0;36m3\u001b[0m\u001b[0;34m\u001b[0m\u001b[0;34m\u001b[0m\u001b[0m\n\u001b[0;32m----> 2\u001b[0;31m \u001b[0mfig\u001b[0m\u001b[0;34m,\u001b[0m \u001b[0max\u001b[0m \u001b[0;34m=\u001b[0m \u001b[0mplt\u001b[0m\u001b[0;34m.\u001b[0m\u001b[0msubplots\u001b[0m\u001b[0;34m(\u001b[0m\u001b[0;36m1\u001b[0m\u001b[0;34m,\u001b[0m\u001b[0mN\u001b[0m\u001b[0;34m,\u001b[0m\u001b[0mfigsize\u001b[0m\u001b[0;34m=\u001b[0m\u001b[0;34m(\u001b[0m\u001b[0;36m18\u001b[0m\u001b[0;34m,\u001b[0m\u001b[0;36m4.5\u001b[0m\u001b[0;34m)\u001b[0m\u001b[0;34m)\u001b[0m\u001b[0;34m\u001b[0m\u001b[0;34m\u001b[0m\u001b[0m\n\u001b[0m\u001b[1;32m      3\u001b[0m \u001b[0;34m\u001b[0m\u001b[0m\n\u001b[1;32m      4\u001b[0m \u001b[0;32mfor\u001b[0m \u001b[0mi\u001b[0m \u001b[0;32min\u001b[0m \u001b[0mrange\u001b[0m\u001b[0;34m(\u001b[0m\u001b[0mN\u001b[0m\u001b[0;34m)\u001b[0m \u001b[0;34m:\u001b[0m\u001b[0;34m\u001b[0m\u001b[0;34m\u001b[0m\u001b[0m\n\u001b[1;32m      5\u001b[0m     \u001b[0mkm\u001b[0m \u001b[0;34m=\u001b[0m \u001b[0mKMeans\u001b[0m\u001b[0;34m(\u001b[0m\u001b[0mn_clusters\u001b[0m\u001b[0;34m=\u001b[0m\u001b[0mi\u001b[0m\u001b[0;34m+\u001b[0m\u001b[0;36m2\u001b[0m\u001b[0;34m,\u001b[0m \u001b[0mrandom_state\u001b[0m\u001b[0;34m=\u001b[0m\u001b[0;36m2018\u001b[0m\u001b[0;34m)\u001b[0m\u001b[0;34m;\u001b[0m \u001b[0mn_grp\u001b[0m \u001b[0;34m=\u001b[0m \u001b[0mkm\u001b[0m\u001b[0;34m.\u001b[0m\u001b[0mfit_predict\u001b[0m\u001b[0;34m(\u001b[0m\u001b[0mtest_pts\u001b[0m\u001b[0;34m)\u001b[0m\u001b[0;34m\u001b[0m\u001b[0;34m\u001b[0m\u001b[0m\n",
      "\u001b[0;31mNameError\u001b[0m: name 'plt' is not defined"
     ]
    }
   ],
   "source": [
    "N=3\n",
    "fig, ax = plt.subplots(1,N,figsize=(18,4.5))\n",
    "\n",
    "for i in range(N) :\n",
    "    km = KMeans(n_clusters=i+2, random_state=2018); n_grp = km.fit_predict(test_pts)\n",
    "    ax[i].scatter(test_pts.x, test_pts.y, c=n_grp)\n",
    "    ax[i].set_title('{0} groups'.format(i+2))"
   ]
  },
  {
   "cell_type": "markdown",
   "metadata": {
    "slideshow": {
     "slide_type": "notes"
    }
   },
   "source": [
    "When we select two clusters there is a natural separation between the two clusters we easily spotted by just looking at the data. When the number of clusters is increased to three, we again see a cluster separation that makes sense. Now, when the number of clusters is increased yet another time we see that one of the clusters is split once more. This time it is how ever questionable if the number of clusters makes sense. From this example, we see that it is important to be aware of problems related to over segmentation."
   ]
  },
  {
   "cell_type": "markdown",
   "metadata": {
    "slideshow": {
     "slide_type": "subslide"
    }
   },
   "source": [
    "## Add spatial information to k-means"
   ]
  },
  {
   "cell_type": "markdown",
   "metadata": {
    "slideshow": {
     "slide_type": "notes"
    }
   },
   "source": [
    "It is important to note that k-means by definition is not position sensitive. Clustering is by definition not position sensitive, mainly measures distances between values and distributions. The position can however be included as additional components in the data vectors. You can also add neighborhood information using filtered images as additionals components of the feature vectors."
   ]
  },
  {
   "cell_type": "code",
   "execution_count": null,
   "metadata": {},
   "outputs": [],
   "source": [
    "orig = fits.getdata('../data/spots/mixture12_00001.fits')[::4,::4]\n",
    "fig,ax = plt.subplots(1,6,figsize=(18,5)); x,y = np.meshgrid(np.linspace(0,1,orig.shape[0]),np.linspace(0,1,orig.shape[1]))\n",
    "ax[0].imshow(orig, vmin=0, vmax=4000), ax[0].set_title('Original')\n",
    "ax[1].imshow(x), ax[1].set_title('x-coordinates')\n",
    "ax[2].imshow(y), ax[2].set_title('y-coordinates')\n",
    "ax[3].imshow(flt.gaussian(orig, sigma=5)), ax[3].set_title('Weighted neighborhood')\n",
    "ax[4].imshow(flt.sobel_h(orig),vmin=0, vmax=0.001),ax[4].set_title('Horizontal edges')\n",
    "ax[5].imshow(flt.sobel_v(orig),vmin=0, vmax=0.001),ax[5].set_title('Vertical edges');"
   ]
  },
  {
   "cell_type": "markdown",
   "metadata": {
    "slideshow": {
     "slide_type": "notes"
    }
   },
   "source": [
    "Scaling the values is very important when you use these additional feature vectors. Otherwise, some vectors will dominate others. "
   ]
  },
  {
   "cell_type": "markdown",
   "metadata": {
    "slideshow": {
     "slide_type": "subslide"
    }
   },
   "source": [
    "## When can clustering be used on images?"
   ]
  },
  {
   "cell_type": "markdown",
   "metadata": {
    "slideshow": {
     "slide_type": "notes"
    }
   },
   "source": [
    "Clustering and in particular k-means are often used for imaging applications. "
   ]
  },
  {
   "cell_type": "markdown",
   "metadata": {},
   "source": [
    "- Single images"
   ]
  },
  {
   "cell_type": "markdown",
   "metadata": {
    "slideshow": {
     "slide_type": "notes"
    }
   },
   "source": [
    "It does not make much sense to segment single images using k-means. This would result in thresholding similar to the one provided by Otsu's method. If you, however, add spatial information like edges and positions it starts be interesting to use k-means for a single image."
   ]
  },
  {
   "cell_type": "markdown",
   "metadata": {},
   "source": [
    "- Bimodal data"
   ]
  },
  {
   "cell_type": "markdown",
   "metadata": {
    "slideshow": {
     "slide_type": "notes"
    }
   },
   "source": [
    "In recent years, several neutron imaging instruments have have installed an X-ray source to provide complementary information to the neutron images. This is a great mix of information for k-means based segmenation. Another type of bimodal data is when a grating interferometry setup is used. This setup provides three images revealing different aspects of the samples. Again, here it a great combination as these data are "
   ]
  },
  {
   "cell_type": "markdown",
   "metadata": {},
   "source": [
    "- Spectrum data"
   ]
  },
  {
   "cell_type": "markdown",
   "metadata": {
    "slideshow": {
     "slide_type": "notes"
    }
   },
   "source": [
    "Many materials have a characteristic response the neutron wavelength. This is used in many materials science experiments, in particular experiments performed at pulsed neutron sources. The data from such experiments result in a spectrum response for each pixel. This means each pixel can be a vector of >1000 elements."
   ]
  },
  {
   "cell_type": "markdown",
   "metadata": {
    "slideshow": {
     "slide_type": "subslide"
    }
   },
   "source": [
    "## Clustering applied to wavelength resolved imaging"
   ]
  },
  {
   "cell_type": "markdown",
   "metadata": {
    "slideshow": {
     "slide_type": "subslide"
    }
   },
   "source": [
    "### The imaging technique\n",
    "|Samples| Spectrum| Wavelength scan|\n",
    "|:---:|:---:|:---:|\n",
    "|![](figures/icon-spectrum.png)|![](figures/energysamples.png)|![](figures/energy_scan.png)|\n",
    "\n",
    "Images courtesy of S. Peetermans"
   ]
  },
  {
   "cell_type": "markdown",
   "metadata": {
    "slideshow": {
     "slide_type": "subslide"
    }
   },
   "source": [
    "### The data"
   ]
  },
  {
   "cell_type": "markdown",
   "metadata": {
    "slideshow": {
     "slide_type": "notes"
    }
   },
   "source": [
    "In this example we use a time of flight transmission spectrum from an assembly of six rectangular steel blocks produced by means of additive manufactoring. The typical approach to analyse this kind of information is to select some regions of interest and compute the average spectra from these regions. The average spectra are then analyzed using single Bragg edge fitting methods or Rietveld refinement. \n",
    "\n",
    "Here, we will explore the posibility to identify regions with similar spectra using k-means clustering. The data is provided on the repository and has the dimensions 128x128x661, where the first to dimensions reflect the image size and the last is th number of time bins of the time of flight spectrum. This is a downsized version of the original data which has 512x512 image frames. Each frame has a relatively low signal to noise ratio, therefore we use the average image _wtof_ to show the image contents."
   ]
  },
  {
   "cell_type": "code",
   "execution_count": null,
   "metadata": {
    "slideshow": {
     "slide_type": "subslide"
    }
   },
   "outputs": [],
   "source": [
    "tof  = np.load('../data/tofdata.npy')\n",
    "wtof = tof.mean(axis=2)\n",
    "plt.imshow(wtof,cmap='gray'); \n",
    "plt.title('Average intensity all time bins');"
   ]
  },
  {
   "cell_type": "markdown",
   "metadata": {
    "slideshow": {
     "slide_type": "subslide"
    }
   },
   "source": [
    "### Looking at the spectra"
   ]
  },
  {
   "cell_type": "markdown",
   "metadata": {
    "slideshow": {
     "slide_type": "notes"
    }
   },
   "source": [
    "The average image told us that there are six sample regions, some void, and some spacers separating the samples. Now you might think, \"easy\" just apply some thresholds on the image and you have identified these regions. Now, the pixels in this image are represented by over 600 spectrum samples which reveal a different story. The sample was exposed to a surface treatment and we expect to locate regions within the samples. Given this information it is much harder to identify the regions of interest."
   ]
  },
  {
   "cell_type": "code",
   "execution_count": null,
   "metadata": {
    "slideshow": {
     "slide_type": "-"
    }
   },
   "outputs": [],
   "source": [
    "fig, ax= plt.subplots(1,2,figsize=(12,5))\n",
    "ax[0].imshow(wtof,cmap='gray'); ax[0].set_title('Average intensity all time bins');\n",
    "ax[0].plot(57,3,'ro'), ax[0].plot(15,30,'bo'), ax[0].plot(79,90,'go'); ax[0].plot(100,120,'co');\n",
    "ax[1].plot(tof[30,15,:],'b', label='Sample'); ax[1].plot(tof[3,57,:],'r', label='Background'); ax[1].plot(tof[90,79,:],'g', label='Spacer'); ax[1].legend();ax[1].plot(tof[120,100,:],'c', label='Sample 2');"
   ]
  },
  {
   "cell_type": "markdown",
   "metadata": {
    "slideshow": {
     "slide_type": "notes"
    }
   },
   "source": [
    "These plots are very noisy and it may even be hard to identify regions with the same spectrum. This is where k-means may come to you help. "
   ]
  },
  {
   "cell_type": "markdown",
   "metadata": {
    "slideshow": {
     "slide_type": "subslide"
    }
   },
   "source": [
    "#### Reshaping "
   ]
  },
  {
   "cell_type": "markdown",
   "metadata": {
    "slideshow": {
     "slide_type": "notes"
    }
   },
   "source": [
    "The k-means requires vectors for each feature dimension, not images as we have in this data set. Therefore, we need to reshape our data. The reshaping is best done using the numpy array method ```reshape``` like this:"
   ]
  },
  {
   "cell_type": "code",
   "execution_count": null,
   "metadata": {
    "slideshow": {
     "slide_type": "-"
    }
   },
   "outputs": [],
   "source": [
    "tofr=tof.reshape([tof.shape[0]*tof.shape[1],tof.shape[2]])\n",
    "print(\"Input ToF dimensions\",tof.shape)\n",
    "print(\"Reshaped ToF data\",tofr.shape)"
   ]
  },
  {
   "cell_type": "markdown",
   "metadata": {
    "slideshow": {
     "slide_type": "notes"
    }
   },
   "source": [
    "The reshaped data _tofr_ now has the dimensions 16384x661, i.e. each 128x128 pixel image has been replaced by a vector with the length 16384 elements. The number of time bins still remains the same. The ```reshape```method is a cheap operation as it only changes the elements of the dimension vector and doesn't rearrange the data in memory. "
   ]
  },
  {
   "cell_type": "markdown",
   "metadata": {
    "slideshow": {
     "slide_type": "subslide"
    }
   },
   "source": [
    "### Setting up and running k-means"
   ]
  },
  {
   "cell_type": "markdown",
   "metadata": {
    "slideshow": {
     "slide_type": "notes"
    }
   },
   "source": [
    "When we set up k-means, we merely have to select the number of clusters. The choice depends on many factors. Particularly in this case with data points containing a large number of values we have a great degree of freedom in what could be considered the correct result. Thus we should ask ourselves what we expect from the clustering."
   ]
  },
  {
   "cell_type": "markdown",
   "metadata": {},
   "source": [
    "- We can clearly see that there is void on the sides of the specimens.\n",
    "- There is also a separating band between the specimens.\n",
    "- Finally we have to decide how many regions we want to find in the specimens. Let's start with two regions with different characteristics."
   ]
  },
  {
   "cell_type": "code",
   "execution_count": null,
   "metadata": {},
   "outputs": [],
   "source": [
    "km = KMeans(n_clusters=4, random_state=2018)     # Random state is an initialization parameter for the random number generator\n",
    "c  = km.fit_predict(tofr).reshape(tof.shape[:2]) # Label image\n",
    "kc = km.cluster_centers_.transpose()             # cluster centroid spectra"
   ]
  },
  {
   "cell_type": "markdown",
   "metadata": {
    "slideshow": {
     "slide_type": "subslide"
    }
   },
   "source": [
    "__Results from the first try__"
   ]
  },
  {
   "cell_type": "code",
   "execution_count": null,
   "metadata": {},
   "outputs": [],
   "source": [
    "fig,axes = plt.subplots(1,3,figsize=(18,5)); axes=axes.ravel()\n",
    "axes[0].imshow(wtof,cmap='viridis'); axes[0].set_title('Average image')\n",
    "p=axes[1].plot(kc);                  axes[1].set_title('Cluster centroid spectra'); axes[1].set_aspect(tof.shape[2], adjustable='box')\n",
    "cmap=ps.buildCMap(p) # Create a color map with the same colors as the plot\n",
    "\n",
    "im=axes[2].imshow(c,cmap=cmap); plt.colorbar(im);\n",
    "axes[2].set_title('Cluster map');\n",
    "plt.tight_layout()"
   ]
  },
  {
   "cell_type": "markdown",
   "metadata": {
    "slideshow": {
     "slide_type": "notes"
    }
   },
   "source": [
    "An advantage of the k-means is that it computes the centroid spectra for you as you go along. This means that if you are interested in finding average spectra in the identified regions, you don't need to compute them as a postprocesing step. They are already there!\n",
    "\n",
    "Now, let's look at the spectra we go from the four-cluster segmenation. Two clusers are trivial; void and spacers. The remaining two clusters show us that there are two types of samples in this assembly... but they don't show if there is an effect of the surface treatments. These effect are not visible in the segmented image. So, this result was not very convincing for our investigation... "
   ]
  },
  {
   "cell_type": "markdown",
   "metadata": {
    "slideshow": {
     "slide_type": "subslide"
    }
   },
   "source": [
    "### We need more clusters\n",
    "\n",
    "- Experiment data has variations on places we didn't expect k-means to detect as clusters.\n"
   ]
  },
  {
   "cell_type": "markdown",
   "metadata": {
    "slideshow": {
     "slide_type": "notes"
    }
   },
   "source": [
    "Except for only showing the main features in the image we got some misclassified pixels. This happens in particular near the sample edges."
   ]
  },
  {
   "cell_type": "markdown",
   "metadata": {
    "slideshow": {
     "slide_type": "-"
    }
   },
   "source": [
    "- We need to increase the number of clusters!"
   ]
  },
  {
   "cell_type": "markdown",
   "metadata": {
    "slideshow": {
     "slide_type": "notes"
    }
   },
   "source": [
    "Increasing the number of clusters will maybe give us more regoins than we actually are asking for, but the advantage is that we also get the regions we want to see."
   ]
  },
  {
   "cell_type": "markdown",
   "metadata": {
    "slideshow": {
     "slide_type": "subslide"
    }
   },
   "source": [
    "#### Increasing the number of clusters\n",
    "\n",
    "What happens when we increase the number of clusters to ten? "
   ]
  },
  {
   "cell_type": "code",
   "execution_count": null,
   "metadata": {},
   "outputs": [],
   "source": [
    "km = KMeans(n_clusters=10, random_state=2018)\n",
    "c  = km.fit_predict(tofr).reshape(tof.shape[:2]) # Label image\n",
    "kc = km.cluster_centers_.transpose()             # cluster centroid spectra"
   ]
  },
  {
   "cell_type": "markdown",
   "metadata": {
    "slideshow": {
     "slide_type": "subslide"
    }
   },
   "source": [
    "__Results of k-means with ten clusters__"
   ]
  },
  {
   "cell_type": "code",
   "execution_count": null,
   "metadata": {},
   "outputs": [],
   "source": [
    "fig,axes = plt.subplots(1,3,figsize=(18,5)); axes=axes.ravel()\n",
    "axes[0].imshow(wtof,cmap='gray'); axes[0].set_title('Average image')\n",
    "p=axes[1].plot(kc);                  axes[1].set_title('Cluster centroid spectra'); axes[1].set_aspect(tof.shape[2], adjustable='box')\n",
    "cmap=ps.buildCMap(p) # Create a color map with the same colors as the plot\n",
    "\n",
    "im=axes[2].imshow(c,cmap=cmap); plt.colorbar(im);\n",
    "axes[2].set_title('Cluster map');\n",
    "plt.tight_layout()"
   ]
  },
  {
   "cell_type": "markdown",
   "metadata": {
    "slideshow": {
     "slide_type": "subslide"
    }
   },
   "source": [
    "#### Interpreting the clusters"
   ]
  },
  {
   "cell_type": "markdown",
   "metadata": {
    "slideshow": {
     "slide_type": "notes"
    }
   },
   "source": [
    "The segmentation with ten clusters did produce too many segments. If you look closer at these segments you see that they are mainly localized near the edges. This is a typical phenomenon in multi-class segmentation of images with smooth edges (transitions from one category to another). The red ellipse in the plot below highlights the centroids related to edge unsertainty."
   ]
  },
  {
   "cell_type": "code",
   "execution_count": null,
   "metadata": {},
   "outputs": [],
   "source": [
    "fig,axes = plt.subplots(1,1,figsize=(14,5)); \n",
    "plt.plot(kc); axes.set_title('Cluster centroid spectra'); \n",
    "axes.add_patch(Ellipse((0,0.62), width=30,height=0.55,fill=False,color='r')) #,axes.set_aspect(tof.shape[2], adjustable='box')\n",
    "axes.add_patch(Ellipse((0,0.24), width=30,height=0.15,fill=False,color='cornflowerblue')),axes.set_aspect(tof.shape[2], adjustable='box');"
   ]
  },
  {
   "cell_type": "markdown",
   "metadata": {
    "slideshow": {
     "slide_type": "notes"
    }
   },
   "source": [
    "The blue ellipse shows the spectra which we are interested in. From these we can see the that there are actually two types of Bragg edge spectra represented in the six samples. These are transmission spectra and the variations in amplitude is related to sample thickness."
   ]
  },
  {
   "cell_type": "markdown",
   "metadata": {
    "slideshow": {
     "slide_type": "subslide"
    }
   },
   "source": [
    "#### Cleaning up the works space"
   ]
  },
  {
   "cell_type": "markdown",
   "metadata": {
    "slideshow": {
     "slide_type": "notes"
    }
   },
   "source": [
    "You may run short of memory after this part. You can delete the variables from this chapter to prepare yourself for the next chapter."
   ]
  },
  {
   "cell_type": "code",
   "execution_count": null,
   "metadata": {},
   "outputs": [],
   "source": [
    "del km, c, kc, tofr, tof"
   ]
  },
  {
   "cell_type": "markdown",
   "metadata": {
    "slideshow": {
     "slide_type": "slide"
    }
   },
   "source": [
    "# Supervised segmentation"
   ]
  },
  {
   "cell_type": "markdown",
   "metadata": {
    "slideshow": {
     "slide_type": "notes"
    }
   },
   "source": [
    "The supervised method needs to be told how to behave when it is presented with some new data. This is done during a training session.\n",
    "```{figure} figures/teachingclass.pdf\n",
    "---\n",
    "scale: 100%\n",
    "---\n",
    "Supervised methods require a training session before performing the actual segmentation task.\n",
    "```"
   ]
  },
  {
   "cell_type": "markdown",
   "metadata": {
    "slideshow": {
     "slide_type": "-"
    }
   },
   "source": [
    "<figure><img src='figures/teachingclass.svg' height=\"300px\"/></figure>"
   ]
  },
  {
   "cell_type": "markdown",
   "metadata": {
    "slideshow": {
     "slide_type": "notes"
    }
   },
   "source": [
    "The typical workflow with a supervised method involves the following three steps:"
   ]
  },
  {
   "cell_type": "markdown",
   "metadata": {
    "slideshow": {
     "slide_type": "-"
    }
   },
   "source": [
    "1. __Training__: Requires training data \n",
    "2. __Verification__: Requires verification data \n",
    "3. __Inference__: The images you want to segment"
   ]
  },
  {
   "cell_type": "markdown",
   "metadata": {
    "slideshow": {
     "slide_type": "notes"
    }
   },
   "source": [
    "The data for the training and verification steps need the same type of data, i.e., data with markup that tell which parts of the image belongs to which segment type. It is how even not good if you use the same data for both training and verification. That would be a self-fulfilling prophecy and the performance numbers for the trained model will be misleadingly high. Typically, you want to have more data for training than for verification. After all, the training data is the part that builds the model and you want good statistic foundation for the model."
   ]
  },
  {
   "cell_type": "markdown",
   "metadata": {
    "slideshow": {
     "slide_type": "subslide"
    }
   },
   "source": [
    "### k nearest neighbors"
   ]
  },
  {
   "cell_type": "markdown",
   "metadata": {
    "slideshow": {
     "slide_type": "notes"
    }
   },
   "source": [
    "The _k nearest neighbors_ algorithm makes the inference based on a point cloud of training point. When the model is presented with a new point it computes the distance to the closest points in the model. The _k_ in the algorithm name indicates how many neighbors should be considered. E.g. _k=3_ means that the major class of the three nearest neighbors is assigned the tested point. Looking at the example below we would say that using three neighbors the \n",
    "\n",
    "- Green hiker would claim he is in a spruce forest.\n",
    "- Orange hiker would claim he is in a mixed forest.\n",
    "- Blue hiker would claim he is in a birch forest.\n",
    "\n",
    "```{figure} figures/forest.pdf\n",
    "---\n",
    "scale: 100%\n",
    "---\n",
    "Depending on the where the hiker is standing he makes the the conclusion that is either in a birch or spruce forest.\n",
    "```"
   ]
  },
  {
   "cell_type": "markdown",
   "metadata": {
    "slideshow": {
     "slide_type": "-"
    }
   },
   "source": [
    "<figure><img src=\"figures/forest.svg\"></figure>"
   ]
  },
  {
   "cell_type": "markdown",
   "metadata": {
    "slideshow": {
     "slide_type": "subslide"
    }
   },
   "source": [
    "## Create example data for supervised segmentation"
   ]
  },
  {
   "cell_type": "code",
   "execution_count": null,
   "metadata": {
    "slideshow": {
     "slide_type": "-"
    }
   },
   "outputs": [],
   "source": [
    "blob_data, blob_labels = make_blobs(n_samples=100, random_state=2018)\n",
    "test_pts = pd.DataFrame(blob_data, columns=['x', 'y'])\n",
    "test_pts['group_id'] = blob_labels\n",
    "plt.scatter(test_pts.x, test_pts.y, c=test_pts.group_id, cmap='viridis');"
   ]
  },
  {
   "cell_type": "markdown",
   "metadata": {
    "slideshow": {
     "slide_type": "subslide"
    }
   },
   "source": [
    "## Detecting unwanted outliers in neutron images"
   ]
  },
  {
   "cell_type": "markdown",
   "metadata": {
    "slideshow": {
     "slide_type": "notes"
    }
   },
   "source": [
    "In neutron images you will always have bright outliers a.k.a. spots. These outliers are at best only annoying when you want to inspect the image and the display interval is set to min and max gray value. The image below shows what these spots look like. Some have relatively low intesity and are mostly harmless. There are however also spots that have gray values and order of magnitude greater than any image information."
   ]
  },
  {
   "cell_type": "code",
   "execution_count": null,
   "metadata": {
    "caption": "A neutron radiograph with spots (left) and a magnified region to make the spots easier to see (right).",
    "label": "fig:spotimage",
    "widefigure": true
   },
   "outputs": [],
   "source": [
    "orig= fits.getdata('../data/spots/mixture12_00001.fits')\n",
    "annotated=io.imread('../data/spots/mixture12_00001.png'); mask=(annotated[:,:,1]==0)\n",
    "r=600; c=600; w=256\n",
    "ps.magnifyRegion(orig,[r,c,r+w,c+w],[15,7],vmin=400,vmax=4000,title='Neutron radiography')"
   ]
  },
  {
   "cell_type": "markdown",
   "metadata": {
    "slideshow": {
     "slide_type": "subslide"
    }
   },
   "source": [
    "### Why are spots so relevant?"
   ]
  },
  {
   "cell_type": "markdown",
   "metadata": {
    "slideshow": {
     "slide_type": "notes"
    }
   },
   "source": [
    "A single spot may not be so bad, but under low SNR conditions they can bias the histograms radically. When projections with spots are used to reconstruct volume images in a tomography they turn into lines instead. These lines can have strong impact on reconstructed slices. Sometimes they produce misleading structures in the images, in other cases they produce additional noise in the images. The figure below show an exmaple of what the impact of a baseline spot cleaning algorithm."
   ]
  },
  {
   "cell_type": "markdown",
   "metadata": {
    "slideshow": {
     "slide_type": "-"
    }
   },
   "source": [
    "![](figures/lineartefacts.png)"
   ]
  },
  {
   "cell_type": "markdown",
   "metadata": {
    "slideshow": {
     "slide_type": "subslide"
    }
   },
   "source": [
    "### Marked-up spots"
   ]
  },
  {
   "cell_type": "markdown",
   "metadata": {
    "slideshow": {
     "slide_type": "notes"
    }
   },
   "source": [
    "\n",
    "```{figure} figures/markedspots.pdf\n",
    "---\n",
    "scale: 100%\n",
    "---\n",
    "A close up of a projection with spots. The image was annotated using a paint application. \n",
    "```"
   ]
  },
  {
   "cell_type": "markdown",
   "metadata": {},
   "source": [
    "<figure><img src='figures/markedspots.svg'/></figure>"
   ]
  },
  {
   "cell_type": "markdown",
   "metadata": {
    "slideshow": {
     "slide_type": "subslide"
    }
   },
   "source": [
    "### Baseline - Traditional spot cleaning algorithm"
   ]
  },
  {
   "cell_type": "markdown",
   "metadata": {
    "slideshow": {
     "slide_type": "notes"
    }
   },
   "source": [
    "When you start implementing a new method to analyze data, it is important to have an algorithm that demonstrates the basic behaviour of the task you want to solve. This is the baseline algorithm is doesn't have to be very good but it should at least solve the problem with better performance than tossing a coin. \n",
    "\n",
    "In the spot detection task we use an algorithm which is implemented in the well-known open source image processing software ImageJ. The algorithm essentially thresholds a high pass filtered image. \n",
    "```{figure} figures/spotclean_algorithm.pdf\n",
    "---\n",
    "scale: 100%\n",
    "---\n",
    "Schematic description of the spot cleaning baseline algorithm\n",
    "```"
   ]
  },
  {
   "cell_type": "markdown",
   "metadata": {
    "slideshow": {
     "slide_type": "-"
    }
   },
   "source": [
    "\n",
    "<figure><img src=\"figures/spotclean_algorithm.svg\" style=\"height:400px\" align=\"middle\"></figure>\n",
    "\n",
    "__Parameters__\n",
    "\n",
    "- _N_ Width of median filter.\n",
    "- _k_ Threshold level for outlier detection."
   ]
  },
  {
   "cell_type": "markdown",
   "metadata": {
    "slideshow": {
     "slide_type": "subslide"
    }
   },
   "source": [
    "### Bivariate histogram of the detection image"
   ]
  },
  {
   "cell_type": "markdown",
   "metadata": {
    "slideshow": {
     "slide_type": "notes"
    }
   },
   "source": [
    "We have in previous test seen that a single threshold doesn't get all spots. In particular not the weak ones. Our mission is now to get as many spots as possible. Therefore, we now look into combinations of data sources to detect also small local outliers. In the figure below we look at the bivariate histogram of the original image and the detection image from the baseline algorithm. The class imbalance prominently shows that most of the pixels are have nearly no signal in the detection image. To better see the spot distribution we need to display the logarithm of the bivariate histogram bins.  "
   ]
  },
  {
   "cell_type": "code",
   "execution_count": null,
   "metadata": {},
   "outputs": [],
   "source": [
    "selem=np.ones([3,3])\n",
    "forig=orig.astype('float32')\n",
    "mimg = flt.median(forig,selem=selem)\n",
    "d = np.abs(forig-mimg)\n",
    "\n",
    "fig,ax=plt.subplots(1,2,figsize=(12,5))\n",
    "h,x,y,u=ax[0].hist2d(forig.ravel(),d.ravel(), bins=100);\n",
    "ax[0].set_xlabel('Input image - $f$'),ax[0].set_ylabel('$|f-med_{3x3}(f)|$'),ax[0].set_title('Bivariate histogram');\n",
    "\n",
    "ax[1].imshow(np.log(h[:,::-1]+1).transpose(),vmin=0,vmax=10,extent=[x.min(),x.max(),y.min(),y.max()])\n",
    "ax[1].set_xlabel('Input image - $f$'),ax[1].set_ylabel('$|f-med_{3x3}(f)|$'),ax[1].set_title('Log bivariate histogram');"
   ]
  },
  {
   "cell_type": "markdown",
   "metadata": {
    "slideshow": {
     "slide_type": "subslide"
    }
   },
   "source": [
    "### The spot cleaning algorithm"
   ]
  },
  {
   "cell_type": "markdown",
   "metadata": {
    "slideshow": {
     "slide_type": "notes"
    }
   },
   "source": [
    "The baseline algorithm is here implemented as a python function that we will use when we compare the performance of the CNN algorithm. This is the most trivial algorithm for spot cleaning and there are plenty other algorithms to solve this task.  "
   ]
  },
  {
   "cell_type": "code",
   "execution_count": null,
   "metadata": {},
   "outputs": [],
   "source": [
    "def spotCleaner(img, threshold=0.95, selem=np.ones([3,3])) :\n",
    "    fimg=img.astype('float32')\n",
    "    mimg = flt.median(fimg,selem=selem)\n",
    "    timg = threshold < np.abs(fimg-mimg)\n",
    "    cleaned = mimg * timg + fimg * (1-timg)\n",
    "    return (cleaned,timg)"
   ]
  },
  {
   "cell_type": "markdown",
   "metadata": {
    "slideshow": {
     "slide_type": "subslide"
    }
   },
   "source": [
    "### Testing the baseline algorithm for spot cleaning"
   ]
  },
  {
   "cell_type": "code",
   "execution_count": null,
   "metadata": {},
   "outputs": [],
   "source": [
    "baseclean,timg = spotCleaner(orig,threshold=1000)\n",
    "ps.magnifyRegion(baseclean,[r,c,r+w,c+w],[12,3],vmin=400,vmax=4000,title='Cleaned image')\n",
    "ps.magnifyRegion(timg,[r,c,r+w,c+w],[12,3],vmin=0,vmax=1,title='Detection image')"
   ]
  },
  {
   "cell_type": "markdown",
   "metadata": {
    "slideshow": {
     "slide_type": "subslide"
    }
   },
   "source": [
    "## k nearest neighbors to detect spots"
   ]
  },
  {
   "cell_type": "markdown",
   "metadata": {
    "slideshow": {
     "slide_type": "subslide"
    }
   },
   "source": [
    "### Prepare data\n",
    "__Training data__"
   ]
  },
  {
   "cell_type": "code",
   "execution_count": null,
   "metadata": {},
   "outputs": [],
   "source": [
    "trainorig = forig[:,:1000].ravel()\n",
    "traind    = d[:,:1000].ravel()\n",
    "trainmask = mask[:,:1000].ravel()\n",
    "\n",
    "train_pts = pd.DataFrame({'orig': trainorig, 'd': traind, 'mask':trainmask})"
   ]
  },
  {
   "cell_type": "markdown",
   "metadata": {},
   "source": [
    "__Test data__"
   ]
  },
  {
   "cell_type": "code",
   "execution_count": null,
   "metadata": {},
   "outputs": [],
   "source": [
    "testorig = forig[:,1000:].ravel()\n",
    "testd    = d[:,1000:].ravel()\n",
    "testmask = mask[:,1000:].ravel()\n",
    "\n",
    "test_pts = pd.DataFrame({'orig': testorig, 'd': testd, 'mask':testmask})"
   ]
  },
  {
   "cell_type": "markdown",
   "metadata": {
    "slideshow": {
     "slide_type": "subslide"
    }
   },
   "source": [
    "### Train the model"
   ]
  },
  {
   "cell_type": "markdown",
   "metadata": {
    "slideshow": {
     "slide_type": "notes"
    }
   },
   "source": [
    "In this example we are training a k nearest neighbor model using a single neighbor. "
   ]
  },
  {
   "cell_type": "code",
   "execution_count": null,
   "metadata": {},
   "outputs": [],
   "source": [
    "k_class = KNeighborsClassifier(1)\n",
    "k_class.fit(train_pts[['orig', 'd']], train_pts['mask']) "
   ]
  },
  {
   "cell_type": "markdown",
   "metadata": {
    "slideshow": {
     "slide_type": "subslide"
    }
   },
   "source": [
    "__Inspect decision space__"
   ]
  },
  {
   "cell_type": "code",
   "execution_count": null,
   "metadata": {},
   "outputs": [],
   "source": [
    "xx, yy = np.meshgrid(np.linspace(test_pts.orig.min(), test_pts.orig.max(), 100),\n",
    "                     np.linspace(test_pts.d.min(), test_pts.d.max(), 100),indexing='ij');\n",
    "grid_pts = pd.DataFrame(dict(x=xx.ravel(), y=yy.ravel()))\n",
    "grid_pts['predicted_id'] = k_class.predict(grid_pts[['x', 'y']])\n",
    "plt.scatter(grid_pts.x, grid_pts.y, c=grid_pts.predicted_id, cmap='gray'); plt.title('Testing Points'); plt.axis('square');"
   ]
  },
  {
   "cell_type": "markdown",
   "metadata": {
    "slideshow": {
     "slide_type": "subslide"
    }
   },
   "source": [
    "### Apply knn to unseen data"
   ]
  },
  {
   "cell_type": "code",
   "execution_count": null,
   "metadata": {},
   "outputs": [],
   "source": [
    "pred = k_class.predict(test_pts[['orig', 'd']])\n",
    "pimg = pred.reshape(d[:,1000:].shape)"
   ]
  },
  {
   "cell_type": "code",
   "execution_count": null,
   "metadata": {},
   "outputs": [],
   "source": [
    "fig,ax = plt.subplots(1,3,figsize=(15,6))\n",
    "ax[0].imshow(forig[:,1000:],vmin=0,vmax=4000), ax[0].set_title('Original image')\n",
    "ax[1].imshow(pimg), ax[1].set_title('Predicted spot')\n",
    "ax[2].imshow(mask[:,1000:]),ax[2].set_title('Annotated spots');"
   ]
  },
  {
   "cell_type": "markdown",
   "metadata": {
    "slideshow": {
     "slide_type": "subslide"
    }
   },
   "source": [
    "### Performance check"
   ]
  },
  {
   "cell_type": "code",
   "execution_count": null,
   "metadata": {},
   "outputs": [],
   "source": [
    "ps.showHitMap(mask[:,1000:],timg[:,1000:])\n",
    "plt.savefig('spotbaseline.png',dpi=300)"
   ]
  },
  {
   "cell_type": "code",
   "execution_count": null,
   "metadata": {},
   "outputs": [],
   "source": [
    "ps.showHitMap(mask[:,1000:], pimg)\n",
    "plt.savefig('spotknn.png',dpi=300)"
   ]
  },
  {
   "cell_type": "markdown",
   "metadata": {
    "slideshow": {
     "slide_type": "subslide"
    }
   },
   "source": [
    "### Some remarks about k-nn\n",
    "\n",
    "- It takes quite some time to process\n",
    "- You need to prepare training data\n",
    "    - Annotation takes time... \n",
    "    - Here we used the segmentation on the same type of image\n",
    "    - We should normalize the data\n",
    "    - This was a raw projection, what happens if we use a flat field corrected image?\n",
    "- Finds more spots than baseline\n",
    "- Data is very unbalanced, try a selection of non-spot data for training.\n",
    "    - Is it faster?\n",
    "    - Is there a drop segmentation performance?\n",
    "\n",
    "__Note__ There are other spot detection methods that perform better than the baseline.\n"
   ]
  },
  {
   "cell_type": "markdown",
   "metadata": {
    "slideshow": {
     "slide_type": "subslide"
    }
   },
   "source": [
    "### Clean up"
   ]
  },
  {
   "cell_type": "code",
   "execution_count": null,
   "metadata": {},
   "outputs": [],
   "source": [
    "del k_class"
   ]
  },
  {
   "cell_type": "markdown",
   "metadata": {
    "slideshow": {
     "slide_type": "slide"
    }
   },
   "source": [
    "# Convolutional neural networks for segmentation"
   ]
  },
  {
   "cell_type": "markdown",
   "metadata": {
    "slideshow": {
     "slide_type": "subslide"
    }
   },
   "source": [
    "## The difference between classification and segmentation I\n",
    "\n",
    "|Classification| Segmentation|\n",
    "|:---:|:---:|\n",
    "| pixels to classes | pixels to pixels |\n",
    "| ![](figures/classificationCD.png) | ![](figures/segmentationCD.png) |"
   ]
  },
  {
   "cell_type": "markdown",
   "metadata": {
    "slideshow": {
     "slide_type": "notes"
    }
   },
   "source": [
    "## Network architecture Classification vs Segmentation \n",
    "\n",
    "|Classification| Segmentation|\n",
    "|:---:|:---:|\n",
    "|![](figures/ClassCNN.jpg)|![](figures/UNet.png)|"
   ]
  },
  {
   "cell_type": "markdown",
   "metadata": {
    "slideshow": {
     "slide_type": "subslide"
    }
   },
   "source": [
    "## Different segmentation networks\n",
    "Segmentation is mostly based on variations of the U-Net architechture\n",
    "\n",
    "- AlexNET\n",
    "- SegNET\n",
    "- SegCaps\n",
    "\n",
    "|Scales in traditional image processing| U-Net architecture|\n",
    "|:---:|:---:|\n",
    "|![](figures/burt_pyramid.png)|![](figures/UNet.png)|"
   ]
  },
  {
   "cell_type": "markdown",
   "metadata": {
    "slideshow": {
     "slide_type": "subslide"
    }
   },
   "source": [
    "### Training data\n",
    "We have two choices:\n",
    "1. Use real data\n",
    "    - requires time consuming markup to provide training data\n",
    "    - corresponds to real life images\n",
    "2. Synthesize data\n",
    "    - flexible and provides both 'dirty' data and ground truth.\n",
    "    - model may not behave as real data"
   ]
  },
  {
   "cell_type": "markdown",
   "metadata": {
    "slideshow": {
     "slide_type": "subslide"
    }
   },
   "source": [
    "## Preparing real data"
   ]
  },
  {
   "cell_type": "markdown",
   "metadata": {},
   "source": [
    "We will use the spotty image as training data for this example\n",
    "\n",
    "__There is only one image!__"
   ]
  },
  {
   "cell_type": "code",
   "execution_count": null,
   "metadata": {},
   "outputs": [],
   "source": [
    "fig,ax=plt.subplots(1,2,figsize=(12,5))\n",
    "ax[0].imshow(forig,vmin=0,vmax=4000,cmap='gray'); ax[0].set_title('Original');\n",
    "ax[1].imshow(mask,cmap='gray'); ax[1].set_title('Mask');"
   ]
  },
  {
   "cell_type": "markdown",
   "metadata": {
    "slideshow": {
     "slide_type": "subslide"
    }
   },
   "source": [
    "### Prepare training, validation, and test data"
   ]
  },
  {
   "cell_type": "markdown",
   "metadata": {
    "slideshow": {
     "slide_type": "-"
    }
   },
   "source": [
    "Any analysis system must be verified to be demonstrate its performance and to further optimize it.\n",
    "\n",
    "For this we need to split our data into three categories:\n",
    "1. Training data\n",
    "2. Test data\n",
    "3. Validation data"
   ]
  },
  {
   "cell_type": "code",
   "execution_count": null,
   "metadata": {},
   "outputs": [],
   "source": [
    "wpos = [1100,600]; ww   = 512\n",
    "train_img,  valid_img, forigc = forig[128:256, 500:1300], forig[500:1000, 300:1500], forig[wpos[0]:(wpos[0]+ww),wpos[1]:(wpos[1]+ww)]\n",
    "train_mask, valid_mask, maskc = mask[128:256, 500:1300],  mask[500:1000, 300:1500],  mask[wpos[0]:(wpos[0]+ww),wpos[1]:(wpos[1]+ww)]\n",
    "\n",
    "fig, ax = plt.subplots(1, 4, figsize=(15, 6), dpi=300); ax=ax.ravel()\n",
    "\n",
    "ax[0].imshow(train_img, cmap='bone',vmin=0,vmax=4000);ax[0].set_title('Train Image')\n",
    "ax[1].imshow(train_mask, cmap='bone'); ax[1].set_title('Train Mask')\n",
    "ax[2].imshow(valid_img, cmap='bone',vmin=0,vmax=4000); ax[2].set_title('Validation Image')\n",
    "ax[3].imshow(valid_mask, cmap='bone');ax[3].set_title('Validation Mask');"
   ]
  },
  {
   "cell_type": "markdown",
   "metadata": {
    "slideshow": {
     "slide_type": "notes"
    }
   },
   "source": [
    "The training image is as you probably already have noted very small. This is on purpose here to allow the training to run without introducing too long training times during the lecture. You will however see that the performance of the model is relatively good."
   ]
  },
  {
   "cell_type": "markdown",
   "metadata": {
    "slideshow": {
     "slide_type": "notes"
    }
   },
   "source": [
    "```{figure} figures/WorkflowWithValidationSet.pdf\n",
    "---\n",
    "scale: 100%\n",
    "---\n",
    "How the three data sets _training_, _validation_, and _test_ are used when a network is trained and optimized.\n",
    "```"
   ]
  },
  {
   "cell_type": "markdown",
   "metadata": {},
   "source": [
    "<figure><center><img src='figures/WorkflowWithValidationSet.svg' style=\"height:400px\"/></center></figure>\n",
    "\n",
    "|Training|Validation|Test|\n",
    "|:---:|:---:|:---:|\n",
    "|70%|15%|15%|"
   ]
  },
  {
   "cell_type": "markdown",
   "metadata": {
    "slideshow": {
     "slide_type": "subslide"
    }
   },
   "source": [
    "### Build a CNN for spot detection and cleaning\n",
    "\n",
    "We need:\n",
    "- Data\n",
    "    - Gray level image - our radiograph.\n",
    "    - Annotated image where the spots are marked.\n",
    "- A U-net model\n",
    "    - Keras comes to our help\n",
    "  "
   ]
  },
  {
   "cell_type": "markdown",
   "metadata": {
    "slideshow": {
     "slide_type": "subslide"
    }
   },
   "source": [
    "### Build a U-Net model"
   ]
  },
  {
   "cell_type": "code",
   "execution_count": null,
   "metadata": {},
   "outputs": [],
   "source": [
    "def buildSpotUNet( base_depth = 48) :\n",
    "    in_img = Input((None, None, 1), name='Image_Input')\n",
    "    lay_1 = Conv2D(base_depth, kernel_size=(3, 3), padding='same',activation='relu')(in_img)\n",
    "    lay_2 = Conv2D(base_depth, kernel_size=(3, 3), padding='same',activation='relu')(lay_1)\n",
    "    lay_3 = MaxPooling2D(pool_size=(2, 2))(lay_2)\n",
    "    lay_4 = Conv2D(base_depth*2, kernel_size=(3, 3), padding='same',activation='relu')(lay_3)\n",
    "    lay_5 = Conv2D(base_depth*2, kernel_size=(3, 3), padding='same',activation='relu')(lay_4)\n",
    "    lay_6 = MaxPooling2D(pool_size=(2, 2))(lay_5)\n",
    "    lay_7 = Conv2D(base_depth*4, kernel_size=(3, 3), padding='same',activation='relu')(lay_6)\n",
    "    lay_8 = Conv2D(base_depth*4, kernel_size=(3, 3), padding='same',activation='relu')(lay_7)\n",
    "    lay_9 = UpSampling2D((2, 2))(lay_8)\n",
    "    lay_10 = concatenate([lay_5, lay_9])\n",
    "    lay_11 = Conv2D(base_depth*2, kernel_size=(3, 3), padding='same',activation='relu')(lay_10)\n",
    "    lay_12 = Conv2D(base_depth*2, kernel_size=(3, 3), padding='same',activation='relu')(lay_11)\n",
    "    lay_13 = UpSampling2D((2, 2))(lay_12)\n",
    "    lay_14 = concatenate([lay_2, lay_13])\n",
    "    lay_15 = Conv2D(base_depth, kernel_size=(3, 3), padding='same',activation='relu')(lay_14)\n",
    "    lay_16 = Conv2D(base_depth, kernel_size=(3, 3), padding='same',activation='relu')(lay_15)\n",
    "    lay_17 = Conv2D(1, kernel_size=(1, 1), padding='same',\n",
    "                    activation='relu')(lay_16)\n",
    "    t_unet = Model(inputs=[in_img], outputs=[lay_17], name='SpotUNET')\n",
    "    return t_unet"
   ]
  },
  {
   "cell_type": "markdown",
   "metadata": {
    "slideshow": {
     "slide_type": "subslide"
    }
   },
   "source": [
    "__Model summary__"
   ]
  },
  {
   "cell_type": "code",
   "execution_count": null,
   "metadata": {},
   "outputs": [],
   "source": [
    "t_unet = buildSpotUNet(base_depth=24)\n",
    "t_unet.summary()"
   ]
  },
  {
   "cell_type": "markdown",
   "metadata": {
    "slideshow": {
     "slide_type": "subslide"
    }
   },
   "source": [
    "#### Functions to prepare data for training"
   ]
  },
  {
   "cell_type": "code",
   "execution_count": null,
   "metadata": {},
   "outputs": [],
   "source": [
    "def prep_img(x, n=1): \n",
    "    return (prep_mask(x, n=n)-train_img.mean())/train_img.std()\n",
    "\n",
    "\n",
    "def prep_mask(x, n=1): \n",
    "    return np.stack([np.expand_dims(x, -1)]*n, 0)"
   ]
  },
  {
   "cell_type": "markdown",
   "metadata": {
    "slideshow": {
     "slide_type": "subslide"
    }
   },
   "source": [
    "#### Test the untrained model"
   ]
  },
  {
   "cell_type": "markdown",
   "metadata": {
    "slideshow": {
     "slide_type": "notes"
    }
   },
   "source": [
    "Running the model without training is nothing you would normally do. Still, it may give you an indication if the model produces signal amplitudes that are relevant for the problem."
   ]
  },
  {
   "cell_type": "markdown",
   "metadata": {
    "slideshow": {
     "slide_type": "subslide"
    }
   },
   "source": [
    "- We can make predictions with an untrained model (default parameters)\n",
    "- but we clearly do not expect them to be very good"
   ]
  },
  {
   "cell_type": "code",
   "execution_count": null,
   "metadata": {},
   "outputs": [],
   "source": [
    "unet_pred = t_unet.predict(prep_img(forigc))[0, :, :, 0]"
   ]
  },
  {
   "cell_type": "code",
   "execution_count": null,
   "metadata": {},
   "outputs": [],
   "source": [
    "fig, m_axs = plt.subplots(2, 3, figsize=(15, 6), dpi=150)\n",
    "for c_ax in m_axs.ravel():\n",
    "    c_ax.axis('off')\n",
    "((ax1, _, ax2), (ax3, ax4, ax5)) = m_axs\n",
    "ax1.imshow(train_img, cmap='bone',vmin=0,vmax=4000); ax1.set_title('Train Image')\n",
    "ax2.imshow(train_mask, cmap='viridis'); ax2.set_title('Train Mask')\n",
    "\n",
    "ax3.imshow(forigc, cmap='bone',vmin=0, vmax=4000); ax3.set_title('Test Image')\n",
    "ax4.imshow(unet_pred, cmap='viridis', vmin=0, vmax=0.1); ax4.set_title('Predicted Segmentation')\n",
    "\n",
    "ax5.imshow(maskc, cmap='viridis'); ax5.set_title('Ground Truth');"
   ]
  },
  {
   "cell_type": "markdown",
   "metadata": {},
   "source": [
    "The untrained model doesn't perform very well. You clearly see that the image structures appear here. What is worth noting the spots already appear as amplified. This what we want to improve during the training."
   ]
  },
  {
   "cell_type": "markdown",
   "metadata": {
    "slideshow": {
     "slide_type": "subslide"
    }
   },
   "source": [
    "### Training conditions"
   ]
  },
  {
   "cell_type": "markdown",
   "metadata": {
    "slideshow": {
     "slide_type": "notes"
    }
   },
   "source": [
    "The training is an iterative optmization process that tries to minimize a loss function. In this case we chose to use the ADAM optimizer to minimize the binary cross-correlation loss function. This loss function is often used for segmentation problems. The choice to the the training run for 20 epochs is rather a practical choice to allow the training to finish in reasonable time during the lecture. I leave it to you to try longer training sessions.  "
   ]
  },
  {
   "cell_type": "markdown",
   "metadata": {
    "slideshow": {
     "slide_type": "-"
    }
   },
   "source": [
    "- [Loss function](https://en.wikipedia.org/wiki/Loss_function) - Binary cross-correlation\n",
    "- Optimizer - [ADAM](https://keras.io/api/optimizers/adam/)\n",
    "- 20 Epochs (training iterations)"
   ]
  },
  {
   "cell_type": "markdown",
   "metadata": {
    "slideshow": {
     "slide_type": "notes"
    }
   },
   "source": [
    "During the training we will also record the history of different metrics to be able to observe the training behaviour."
   ]
  },
  {
   "cell_type": "markdown",
   "metadata": {
    "slideshow": {
     "slide_type": "-"
    }
   },
   "source": [
    "- Metrics \n",
    "    1. True positives\n",
    "    2. False positives\n",
    "    3. True negatives\n",
    "    4. False negatives\n",
    "    5. Binary accuracy (percentage of pixels correct classified)\n",
    "$$BA=\\frac{1}{N}\\sum_i(f_i==g_i)$$\n",
    "    6. Precision\n",
    "$$Precision=\\frac{TP}{TP+FP}$$\n",
    "    7. Recall \n",
    "$$Recall=\\frac{TP}{TP+FN}$$\n",
    "    8. Area under reciever operating characteristics (ROC) curve \n",
    "$$AUC=\\int ROC$$    \n",
    "    2. Mean absolute error\n",
    "$$MAE=\\frac{1}{N}\\sum_i|f_i-g_i|$$"
   ]
  },
  {
   "cell_type": "markdown",
   "metadata": {
    "slideshow": {
     "slide_type": "notes"
    }
   },
   "source": [
    "Some of these metrics will turn out to be useless in this example. The reason is the class unbalanced in the data. The spots represent about 1% of the pixels in the image."
   ]
  },
  {
   "cell_type": "markdown",
   "metadata": {
    "slideshow": {
     "slide_type": "subslide"
    }
   },
   "source": [
    "## Compile the model"
   ]
  },
  {
   "cell_type": "code",
   "execution_count": null,
   "metadata": {},
   "outputs": [],
   "source": [
    "mlist = [\n",
    "      metrics.TruePositives(name='tp'),        metrics.FalsePositives(name='fp'), \n",
    "      metrics.TrueNegatives(name='tn'),        metrics.FalseNegatives(name='fn'), \n",
    "      metrics.BinaryAccuracy(name='accuracy'), metrics.Precision(name='precision'),\n",
    "      metrics.Recall(name='recall'),           metrics.AUC(name='auc'),\n",
    "      metrics.MeanAbsoluteError(name='mae')]\n",
    "\n",
    "t_unet.compile(\n",
    "    loss=loss.BinaryCrossentropy(),  # we use the binary cross-entropy to optimize\n",
    "    optimizer=opt.Adam(lr=1e-3),     # we use ADAM to optimize\n",
    "    metrics=mlist                    # we keep track of the metrics in mlist\n",
    ")"
   ]
  },
  {
   "cell_type": "markdown",
   "metadata": {
    "slideshow": {
     "slide_type": "subslide"
    }
   },
   "source": [
    "### A general note on the following demo\n",
    "This is a very bad way to train a model;\n",
    "- the optimizer can be tweaked, _e.g._ the learning rate can be changed, \n",
    "- the training and validation data **should not** come from the same sample (and **definitely** not the same measurement). \n",
    "- a single image does not provide a good base for a general spot detection algorithm.\n",
    "\n",
    "The goal is to be aware of these techniques and have a feeling for how they can work for complex problems. "
   ]
  },
  {
   "cell_type": "markdown",
   "metadata": {
    "slideshow": {
     "slide_type": "subslide"
    }
   },
   "source": [
    "### Training the spot detection model"
   ]
  },
  {
   "cell_type": "markdown",
   "metadata": {
    "slideshow": {
     "slide_type": "notes"
    }
   },
   "source": [
    "We train the model during 20 epochs using 3 samples per epoch. The optimizer uses the loss computed from a single validation image. "
   ]
  },
  {
   "cell_type": "code",
   "execution_count": null,
   "metadata": {},
   "outputs": [],
   "source": [
    "Nsamples = 3\n",
    "Nepochs  = 20\n",
    "loss_history = t_unet.fit(prep_img(train_img, n=Nsamples),\n",
    "                          prep_mask(train_mask, n=Nsamples),\n",
    "                          validation_data=(prep_img(valid_img),\n",
    "                                           prep_mask(valid_mask)),\n",
    "                          epochs=Nepochs,\n",
    "                          verbose = 2)\n"
   ]
  },
  {
   "cell_type": "markdown",
   "metadata": {
    "slideshow": {
     "slide_type": "subslide"
    }
   },
   "source": [
    "#### Training history plots"
   ]
  },
  {
   "cell_type": "markdown",
   "metadata": {
    "slideshow": {
     "slide_type": "notes"
    }
   },
   "source": [
    "During the training you could see that the metrics we asked for change values. The values can be reviewed after training to evaluate if the model performs well. "
   ]
  },
  {
   "cell_type": "code",
   "execution_count": null,
   "metadata": {},
   "outputs": [],
   "source": [
    "titleDict = {'tp': \"True Positives\",'fp': \"False Positives\",'tn': \"True Negatives\",'fn': \"False Negatives\", 'accuracy':\"BinaryAccuracy\",'precision': \"Precision\",'recall':\"Recall\",'auc': \"Area under Curve\", 'mae': \"Mean absolute error\"}\n",
    "\n",
    "fig,ax = plt.subplots(2,5, figsize=(20,8), dpi=300)\n",
    "ax =ax.ravel()\n",
    "for idx,key in enumerate(titleDict.keys()): \n",
    "    ax[idx].plot(loss_history.epoch, loss_history.history[key], color='coral', label='Training')\n",
    "    ax[idx].plot(loss_history.epoch, loss_history.history['val_'+key], color='cornflowerblue', label='Validation')\n",
    "    ax[idx].set_title(titleDict[key]); \n",
    "\n",
    "ax[9].axis('off');\n",
    "axLine, axLabel = ax[0].get_legend_handles_labels() # Take the lables and plot line information from the first panel\n",
    "lines =[]; labels = []; lines.extend(axLine); labels.extend(axLabel);fig.legend(lines, labels, bbox_to_anchor=(0.7, 0.3), loc='upper left');"
   ]
  },
  {
   "cell_type": "markdown",
   "metadata": {
    "slideshow": {
     "slide_type": "subslide"
    }
   },
   "source": [
    "#### Prediction on the training data"
   ]
  },
  {
   "cell_type": "code",
   "execution_count": null,
   "metadata": {},
   "outputs": [],
   "source": [
    "unet_train_pred = t_unet.predict(prep_img(train_img[:,wpos[1]:(wpos[1]+ww)]))[0, :, :, 0]\n",
    "\n",
    "fig, m_axs = plt.subplots(1, 3, figsize=(18, 4), dpi=150); m_axs= m_axs.ravel(); \n",
    "for c_ax in m_axs: c_ax.axis('off')\n",
    "\n",
    "m_axs[0].imshow(train_img[:,wpos[1]:(wpos[1]+ww)], cmap='bone', vmin=0, vmax=4000), m_axs[0].set_title('Train Image')\n",
    "m_axs[1].imshow(unet_train_pred, cmap='viridis', vmin=0, vmax=0.2), m_axs[1].set_title('Predicted Training')\n",
    "m_axs[2].imshow(train_mask[:,wpos[1]:(wpos[1]+ww)], cmap='viridis'), m_axs[2].set_title('Train Mask');\n"
   ]
  },
  {
   "cell_type": "markdown",
   "metadata": {
    "slideshow": {
     "slide_type": "subslide"
    }
   },
   "source": [
    "### Prediction using unseen data"
   ]
  },
  {
   "cell_type": "code",
   "execution_count": null,
   "metadata": {},
   "outputs": [],
   "source": [
    "unet_pred = t_unet.predict(prep_img(forigc))[0, :, :, 0]\n",
    "\n",
    "fig, m_axs = plt.subplots(1, 3, figsize=(18, 4), dpi=150); m_axs = m_axs.ravel() ; \n",
    "for c_ax in m_axs: c_ax.axis('off')\n",
    "m_axs[0].imshow(forigc, cmap='bone', vmin=0, vmax=4000); m_axs[0].set_title('Full Image')\n",
    "f1=m_axs[1].imshow(unet_pred, cmap='viridis', vmin=0, vmax=0.1); m_axs[1].set_title('Predicted Segmentation'); fig.colorbar(f1,ax=m_axs[1]);\n",
    "m_axs[2].imshow(maskc,cmap='viridis'); m_axs[2].set_title('Ground Truth');"
   ]
  },
  {
   "cell_type": "markdown",
   "metadata": {
    "slideshow": {
     "slide_type": "subslide"
    }
   },
   "source": [
    "#### Converting predictions to segments"
   ]
  },
  {
   "cell_type": "code",
   "execution_count": null,
   "metadata": {
    "slideshow": {
     "slide_type": "-"
    }
   },
   "outputs": [],
   "source": [
    "fig, ax = plt.subplots(1,2, figsize=(12,4))\n",
    "ax0=ax[0].imshow(unet_pred, vmin=0, vmax=0.1); ax[0].set_title('Predicted segmentation'); fig.colorbar(ax0,ax=ax[0])\n",
    "ax[1].imshow(0.05<unet_pred), ax[1].set_title('Final segmenation');"
   ]
  },
  {
   "cell_type": "markdown",
   "metadata": {
    "slideshow": {
     "slide_type": "subslide"
    }
   },
   "source": [
    "#### Hit cases"
   ]
  },
  {
   "cell_type": "code",
   "execution_count": null,
   "metadata": {
    "scrolled": true
   },
   "outputs": [],
   "source": [
    "gt = maskc\n",
    "pr = 0.05<unet_pred\n",
    "ps.showHitCases(gt,pr,cmap='gray')"
   ]
  },
  {
   "cell_type": "markdown",
   "metadata": {
    "slideshow": {
     "slide_type": "subslide"
    }
   },
   "source": [
    "#### Hit map"
   ]
  },
  {
   "cell_type": "code",
   "execution_count": null,
   "metadata": {
    "slideshow": {
     "slide_type": "-"
    }
   },
   "outputs": [],
   "source": [
    "ps.showHitMap(gt,pr)\n",
    "plt.savefig('spotunet.png')"
   ]
  },
  {
   "cell_type": "markdown",
   "metadata": {
    "slideshow": {
     "slide_type": "subslide"
    }
   },
   "source": [
    "### Comparing the performance of the spot detection methods"
   ]
  },
  {
   "cell_type": "markdown",
   "metadata": {},
   "source": [
    "__Baseline__\n",
    "![](spotbaseline.png)"
   ]
  },
  {
   "cell_type": "markdown",
   "metadata": {},
   "source": [
    "__k-NN__\n",
    "![](spotknn.png)"
   ]
  },
  {
   "cell_type": "markdown",
   "metadata": {},
   "source": [
    "__U-Net__\n",
    "![](spotunet.png)"
   ]
  },
  {
   "cell_type": "markdown",
   "metadata": {
    "slideshow": {
     "slide_type": "subslide"
    }
   },
   "source": [
    "### Concluding remarks about the spot detection\n",
    "\n",
    "- Spot detection seems to be working well using the U-Net.\n",
    "- A great amount of the spots are found.\n",
    "- There are many false positive pixels - usually in the neighborhood of a spot.\n",
    "- Some misclasifications are probably related to the annotation of the training image.\n",
    "- Wide spot items may be related to the network depth.\n",
    "- The demo sample is smooth, we didn't test the performance near edges\n",
    "\n",
    "__Improvements__\n",
    "- Increase the number of epochs in the training\n",
    "- Increase the training data\n",
    "    - Add images with different SNR (real and simulated)\n",
    "    - Add images with different characteristics"
   ]
  },
  {
   "cell_type": "markdown",
   "metadata": {
    "slideshow": {
     "slide_type": "slide"
    }
   },
   "source": [
    "# Segmenting root networks in the rhizosphere"
   ]
  },
  {
   "cell_type": "markdown",
   "metadata": {
    "slideshow": {
     "slide_type": "subslide"
    }
   },
   "source": [
    "## Background\n",
    "- Soil and in particular the rhizosphere are of central interest for neutron imaging users. \n",
    "- The experiments aim to follow the water distribution near the roots.\n",
    "- The roots must be identified in 2D and 3D data\n",
    "\n",
    "__Today:__ much of this mark-up is done manually!\n",
    "![](figures/roots/rhizobox.png)\n",
    "\n",
    "__Acknowledgement__: This work was done by Gian Guido Parenza as a master project."
   ]
  },
  {
   "cell_type": "markdown",
   "metadata": {
    "slideshow": {
     "slide_type": "subslide"
    }
   },
   "source": [
    "## Available data\n",
    "| Radiography | Tomography |\n",
    "|:---:|:---:|\n",
    "|![](figures/roots/2DRootGT.png)|![](figures/roots/3DRootGT.png)|\n",
    "|Provided by A. Carminati et al.| Provided by M. Menon et al.|"
   ]
  },
  {
   "cell_type": "markdown",
   "metadata": {
    "slideshow": {
     "slide_type": "subslide"
    }
   },
   "source": [
    "## Results using current method\n",
    "\n",
    "|Radiograph of a rhizobox | Current segmentation|\n",
    "|:---:|:---:|\n",
    "|![](figures/roots/DrySoil.png)|![](figures/roots/RootTrack2Ddry.png)|\n",
    "\n",
    "__Problems:__\n",
    "Unwanted elements are marked as roots\n",
    "1. Elements of the container\n",
    "2. Soil cracks\n",
    "3. The porous barrier"
   ]
  },
  {
   "cell_type": "markdown",
   "metadata": {
    "slideshow": {
     "slide_type": "subslide"
    }
   },
   "source": [
    "## Workflow"
   ]
  },
  {
   "cell_type": "markdown",
   "metadata": {
    "slideshow": {
     "slide_type": "notes"
    }
   },
   "source": [
    "```{figure} figures/roots/GraphicalAbstract_03.pdf\n",
    "---\n",
    "scale: 100%\n",
    "---\n",
    "The rhizospere experiment and analysis workflow.\n",
    "```"
   ]
  },
  {
   "cell_type": "markdown",
   "metadata": {},
   "source": [
    "<figure><img src='figures/roots/GraphicalAbstract_03.svg' style=\"width:100%\"/></figure>"
   ]
  },
  {
   "cell_type": "markdown",
   "metadata": {
    "slideshow": {
     "slide_type": "-"
    }
   },
   "source": [
    "## Considered NN model\n",
    "\n",
    "This task is again a good case for the U-Net model\n",
    "\n",
    "\n",
    "## Training\n",
    "\n",
    "|| Radiography | Tomography |\n",
    "|:---:|:---:|:---:|\n",
    "|Data size| 256x256| 64x64x64|\n",
    "|Training times| 2-3 min/epoch| 30-40 min/epoch |"
   ]
  },
  {
   "cell_type": "markdown",
   "metadata": {
    "slideshow": {
     "slide_type": "subslide"
    }
   },
   "source": [
    "## Loss functions\n",
    "\n",
    "![](figures/roots/Losses-trimmed.png)"
   ]
  },
  {
   "cell_type": "markdown",
   "metadata": {
    "slideshow": {
     "slide_type": "subslide"
    }
   },
   "source": [
    "### The impact of different loss functions\n",
    "|Compare different loss functions| Details of branching loss|\n",
    "|:---:|:---:|\n",
    "|![](figures/roots/BRLComp.png) | ![](figures/roots/BRLCompDetail.png) |"
   ]
  },
  {
   "cell_type": "markdown",
   "metadata": {
    "slideshow": {
     "slide_type": "subslide"
    }
   },
   "source": [
    "## Transfer learning\n",
    "- We have little available annotated neutron data\n",
    "    - There is more radiographs than tomograms\n",
    "    \n",
    "__Our options__\n",
    "- Simulations using root network simulators and Monte Carlo neutron simulation\n",
    "- Use data with similar features.\n",
    "\n",
    "Medical image processing is the saviour!\n",
    "![](figures/roots/retinaimages.png)\n"
   ]
  },
  {
   "cell_type": "markdown",
   "metadata": {
    "slideshow": {
     "slide_type": "subslide"
    }
   },
   "source": [
    "### Trying transfer learning on the roots\n",
    "\n",
    "|U-Net trained with roots only |U-Net trained with transfer learning|\n",
    "|:---:|:---:|\n",
    "|![](figures/roots/R2UNetORdry.png) | ![](figures/roots/R2UNetTLdry.png)|\n",
    "\n",
    "Transfer learning\n",
    "- Speeds up the training with root data\n",
    "- Improves the segmented results\n",
    "- Can even be used for 3D data"
   ]
  },
  {
   "cell_type": "markdown",
   "metadata": {
    "slideshow": {
     "slide_type": "subslide"
    }
   },
   "source": [
    "## The model can also be used for volume data\n",
    "_after some modification_\n",
    "\n",
    "|Original tomography data and ground truth| Segmentations |\n",
    "|:---:|:---:|\n",
    "|![](figures/roots/3DRootGT.png) | ![](figures/roots/3DResult.png)|"
   ]
  },
  {
   "cell_type": "markdown",
   "metadata": {
    "slideshow": {
     "slide_type": "subslide"
    }
   },
   "source": [
    "## Summary\n",
    "This project has shown that \n",
    "- Convolutional NNs can segment roots in soil\n",
    "- Will save a lot of work in future rhizospere experiment\n",
    "\n",
    "The models still need more training to cover wider variations in the data."
   ]
  },
  {
   "cell_type": "markdown",
   "metadata": {
    "slideshow": {
     "slide_type": "slide"
    }
   },
   "source": [
    "# Concluding remarks\n",
    "We have demonstrated how some machine learning techniques can be used on neutron images:\n",
    "- Some background to the segmentation problem and neutron imaging\n",
    "- k-means - to segment ToF spectra\n",
    "- Spot detection\n",
    "    - Baseline algorithm\n",
    "    - k-Nearest neighbors\n",
    "    - U-Net\n",
    "- Root segmentation\n",
    "    - U-Net\n",
    "    - Different loss metrics\n",
    "    - Training performance"
   ]
  },
  {
   "cell_type": "code",
   "execution_count": null,
   "metadata": {
    "slideshow": {
     "slide_type": "subslide"
    }
   },
   "outputs": [],
   "source": []
  }
 ],
 "metadata": {
  "celltoolbar": "Slideshow",
  "hide_input": false,
  "kernelspec": {
   "display_name": "Python 3",
   "language": "python",
   "name": "python3"
  },
  "language_info": {
   "codemirror_mode": {
    "name": "ipython",
    "version": 3
   },
   "file_extension": ".py",
   "mimetype": "text/x-python",
   "name": "python",
   "nbconvert_exporter": "python",
   "pygments_lexer": "ipython3",
   "version": "3.8.5"
  },
  "livereveal": {
   "autolaunch": false,
   "footer": "ML for neutron image segmentation - Anders Kaestner",
   "header": "<table width='100%' style='margin: 0px;'><tr><td align='left'><img src='figures/PSI-Logo.svg' style='height:50px;'></td></tr></table>",
   "scroll": true
  },
  "metadata": {
   "execution": {
    "timeout": 240
   }
  },
  "rise": {
   "enable_chalkboard": true
  }
 },
 "nbformat": 4,
 "nbformat_minor": 4
}
