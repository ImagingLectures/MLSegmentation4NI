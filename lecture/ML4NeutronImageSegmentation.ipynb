{
 "cells": [
  {
   "cell_type": "markdown",
   "metadata": {
    "slideshow": {
     "slide_type": "notes"
    }
   },
   "source": [
    "# Machine learning to segment neutron images"
   ]
  },
  {
   "cell_type": "markdown",
   "metadata": {
    "slideshow": {
     "slide_type": "slide"
    }
   },
   "source": [
    "\n",
    "<p style=\"font-size:1.75em;padding-bottom: 1.0em;\"><b>Machine learning to segment neutron images</b></p>\n",
    "<p style=\"font-size:1.2em;padding-bottom: 0.25em;\">Anders Kaestner, Beamline scientist - Neutron Imaging</p>  \n",
    "<p style=\"font-size:1.2em;\">Laboratory for Neutron Scattering and Imaging<br />Paul Scherrer Institut</p>"
   ]
  },
  {
   "cell_type": "markdown",
   "metadata": {
    "slideshow": {
     "slide_type": "slide"
    }
   },
   "source": [
    "# Lecture outline"
   ]
  },
  {
   "cell_type": "markdown",
   "metadata": {
    "slideshow": {
     "slide_type": "notes"
    }
   },
   "source": [
    "In this lecture about machine learning to segment neutron images we will cover the following topics"
   ]
  },
  {
   "cell_type": "markdown",
   "metadata": {
    "slideshow": {
     "slide_type": "-"
    }
   },
   "source": [
    "1. Introduction\n",
    "2. Limited data problem\n",
    "3. Unsupervised segmentation\n",
    "4. Supervised segmentation\n",
    "5. Final problem: Segmenting root networks using convolutional NNs\n",
    "6. Future Machine learning challenges in NI"
   ]
  },
  {
   "cell_type": "markdown",
   "metadata": {
    "slideshow": {
     "slide_type": "subslide"
    }
   },
   "source": [
    "## Importing needed modules\n",
    "This lecture needs some module to run. We import all of them here."
   ]
  },
  {
   "cell_type": "code",
   "execution_count": 74,
   "metadata": {
    "slideshow": {
     "slide_type": "-"
    }
   },
   "outputs": [],
   "source": [
    "%matplotlib inline\n",
    "import matplotlib.pyplot as plt\n",
    "import numpy as np\n",
    "import pandas as pd\n",
    "\n",
    "from IPython.display import set_matplotlib_formats\n",
    "set_matplotlib_formats('svg', 'png')\n",
    "import matplotlib as mpl\n",
    "mpl.rcParams['figure.dpi'] = 150"
   ]
  },
  {
   "cell_type": "markdown",
   "metadata": {
    "slideshow": {
     "slide_type": "slide"
    }
   },
   "source": [
    "# Introduction\n",
    "\n",
    "- Introduction to neutron imaging\n",
    "  - Some words about the method\n",
    "  - Contrasts\n",
    "  \n",
    "\n",
    "- Introduction to segmentation\n",
    "  - What is segmentation\n",
    "  - Noise and SNR\n",
    "\n",
    "- Problematic segmentation tasks\n",
    "  - Intro\n",
    "  - Segmenation problems in neutron imaging\n",
    "  "
   ]
  },
  {
   "cell_type": "markdown",
   "metadata": {
    "slideshow": {
     "slide_type": "subslide"
    }
   },
   "source": [
    "\n",
    "## What is an image?\n",
    "\n",
    "----\n",
    "\n",
    "A very abstract definition: \n",
    "- __A pairing between spatial information (position)__\n",
    "- __and some other kind of information (value).__\n",
    "\n",
    "In most cases this is a two- or three-dimensional position (x,y,z coordinates) and a numeric value (intensity)\n",
    "\n"
   ]
  },
  {
   "cell_type": "markdown",
   "metadata": {
    "slideshow": {
     "slide_type": "subslide"
    }
   },
   "source": [
    "## Science and Imaging\n",
    "Images are great for qualitative analyses since our brains can quickly interpret them without large _programming_ investements.\n",
    "### Proper processing and quantitative analysis is however much more difficult with images.\n",
    " - If you measure a temperature, quantitative analysis is easy, $50K$.\n",
    " - If you measure an image it is much more difficult and much more prone to mistakes, subtle setup variations, and confusing analyses\n",
    "\n",
    "\n",
    "### Furthermore in image processing there is a plethora of tools available\n",
    "\n",
    "- Thousands of algorithms available\n",
    "- Thousands of tools\n",
    "- Many images require multi-step processing\n",
    "- Experimenting is time-consuming"
   ]
  },
  {
   "cell_type": "markdown",
   "metadata": {
    "slideshow": {
     "slide_type": "subslide"
    }
   },
   "source": [
    "## Some word about neutron imaging"
   ]
  },
  {
   "cell_type": "markdown",
   "metadata": {
    "slideshow": {
     "slide_type": "notes"
    }
   },
   "source": [
    "Neutron imaging is a method based on transmission of the neutron radiation through a sample, i.e. the fundamental information is a radiograph. In this sense it is very much similar to the more known x-ray imaging. The intensity in a radiographic image proportional to the amount of radiation that remains after it was transmitted through the sample. The transmitted radiation is described by Beer-Lambert's law which in its basic form look like\n",
    "\n",
    "$I=I_0\\cdot{}e^{-\\int_L \\mu{}(x) dx}$\n",
    "\n",
    "Where $\\mu(x)$ is the attenuation coefficient of the sample at position _x_.\n",
    "\n",
    "Single radiographs are relatively rare. In most experiments the radiographs are part of a time series aquisition or projections for the 3D tomography reconstuction. In this lecture we are not going very much into the details about the imaging method as such. This is a topic for other schools that are offered. \n"
   ]
  },
  {
   "cell_type": "markdown",
   "metadata": {
    "slideshow": {
     "slide_type": "subslide"
    }
   },
   "source": [
    "## Neutron imaging contrast"
   ]
  },
  {
   "cell_type": "markdown",
   "metadata": {
    "slideshow": {
     "slide_type": "slide"
    }
   },
   "source": [
    "## Measurements are rarely perfect\n",
    "<figure><img src=\"figures/imperfect_imaging_system.svg\" style=\"height:400px\" align=\"middle\"></figure>"
   ]
  },
  {
   "cell_type": "markdown",
   "metadata": {
    "slideshow": {
     "slide_type": "notes"
    }
   },
   "source": [
    "There is no measurement that is perfect. This is also true for neutron imaging. The ideal image is the sample is distorted for many reasons. The figure below shows how an image of a sample can look after passing though the acquisition system. These quailty degradations will have an impact on the analysis of the image data. In some cases, it is possible to correct for some of these artifacts using classing image processing techniques. There are however also cases that require extra effort to correct the artifacts.  \n",
    "![](figures/imperfect_imaging_system.pdf)"
   ]
  },
  {
   "cell_type": "markdown",
   "metadata": {
    "slideshow": {
     "slide_type": "subslide"
    }
   },
   "source": [
    "### Factors affecting the image quality"
   ]
  },
  {
   "cell_type": "markdown",
   "metadata": {
    "slideshow": {
     "slide_type": "notes"
    }
   },
   "source": [
    "The list below provides some factors that affect the quality of the acquired images. Most of them can be handled by changing the imaging configuration in some sense. It can however be that the sample or process observed put limitiations on how much the acquisition can be tuned to obtain the perfect image."
   ]
  },
  {
   "cell_type": "markdown",
   "metadata": {
    "slideshow": {
     "slide_type": "-"
    }
   },
   "source": [
    "* Resolution (Imaging system transfer functions)\n",
    "* Noise\n",
    "* Contrast\n",
    "* Inhomogeneous contrast\n",
    "* Artifacts"
   ]
  },
  {
   "cell_type": "markdown",
   "metadata": {
    "slideshow": {
     "slide_type": "notes"
    }
   },
   "source": [
    "#### Resolution\n",
    "The resolution is primarily determined optical transfer function of the imaging system. The actual resolution is given by the extents of the sample and how much the detector needs to capture in one image. This gives the field of view and given the number pixels in the used detector it is possible to calculate the pixel size. The pixel size limits the size of the smallest feature in the image that can be detected. The scintillator, which is used to convert neutrons into visible light, is chosen to \n",
    "1. match the sampling rate given by the pixel size.\n",
    "2. provide sufficient neutron capture to obtain sufficient light output for a given exposure time.\n",
    "\n",
    "#### Noise\n",
    "An imaging system has many noise sources, each with its own distribution e.g.\n",
    "1. Neutron statistics - how many neutrons are collected in a pixel. This noise is Poisson distributed. \n",
    "2. Photon statistics - how many photons are produced by each neutron. This noise is also Poisson distributed.\n",
    "3. Thermal noise from the electronics which has a Gaussian distribution.\n",
    "4. Digitation noise from converting the charges collected for the photons into digital numbers that can be transfered and stored by a computer, this noise has a binominal distribution.\n",
    "\n",
    "The neutron statistics are mostly dominant in neutron imaging but in some cases it could also be that the photon statistics play a role. \n",
    "\n",
    "#### Contrast\n",
    "The contrast in the sample is a consequence of \n",
    "1. how well the sample transmits the chosen radiation type. For neutrons you obtain good contrast from materials containing hydrogen or lithium while many metals are more transparent.\n",
    "2. the amount of a specific element or material represented in a unit cell, e.g. a pixel (radiograph) or a voxel (tomography). \n",
    "\n",
    "The objective of many experiments is to quantify the amount of a specific material. This could for example be the amount of water in a porous medium.\n",
    "\n",
    "Good contrast between different image features is important if you want to segment them to make conclusions about the image content. Therefore, the radiation type should be chosen to provide the best contrast between the features.\n",
    "\n",
    "#### Inhomogeneous contrast\n",
    "The contrast in the raw radiograph depends much on the beam profile. These variations are easily corrected by normalizing the images by an open beam or flat field image. \n",
    "\n",
    "- __Biases introduced by scattering__ Scattering is the dominant interaction for many materials use in neutron imaging. This means that neutrons that are not passing straight though the sample are scattered and contribute to a background cloud of neutrons that build up a bias of neutron that are also detected and contribute to the \n",
    "\n",
    "- __Biases from beam hardening__ is a problem that is more present in x-ray imaging and is caused by that fact that the attenuation coefficient depends on the energy of the radiation. Higher energies have lower attenuation coefficient, thus will high energies penetrate the thicker samples than lower energies. This can be seen when a polychromatic beam is used. \n",
    "\n",
    "#### Artifacts\n",
    "Many images suffer from outliers caused by stray rays hitting the detector. Typical artefacts in tomography data are\n",
    "- Lines, which are caused by outlier spots that only appear in single projections. These spot appear as lines in the reconstructed images.\n",
    "- Rings are caused by stuck pixels which have the same value in a projections."
   ]
  },
  {
   "cell_type": "markdown",
   "metadata": {
    "slideshow": {
     "slide_type": "subslide"
    }
   },
   "source": [
    "## Introduction to segmentation\n",
    "What is segmentation"
   ]
  },
  {
   "cell_type": "markdown",
   "metadata": {
    "slideshow": {
     "slide_type": "subslide"
    }
   },
   "source": [
    "### Basic segmentation: Applying a threshold to an image\n",
    "Start out with a simple image of a cross with added noise\n",
    "\n",
    "$$ I(x,y) = f(x,y) $$"
   ]
  },
  {
   "cell_type": "markdown",
   "metadata": {
    "slideshow": {
     "slide_type": "notes"
    }
   },
   "source": [
    "Here, we create a test image with two features embedded in uniform noise; a cross with values in the order of '1' and background with values in the order '0'. The figure below shows the image and its histogram. The histogram helps us to see how the graylevels are distributed which helps to decide where to put a threshold that segments the cross from the background."
   ]
  },
  {
   "cell_type": "code",
   "execution_count": 44,
   "metadata": {},
   "outputs": [
    {
     "data": {
      "application/pdf": "[encoded data removed]",
      "image/png": "[encoded data removed]",
      "text/plain": [
       "<Figure size 1050x450 with 2 Axes>"
      ]
     },
     "metadata": {
      "needs_background": "light"
     },
     "output_type": "display_data"
    }
   ],
   "source": [
    "fig,ax = plt.subplots(1,2,figsize=(7,3))\n",
    "nx = 5; ny = 5;\n",
    "xx, yy = np.meshgrid(np.arange(-nx, nx+1)/nx*2*np.pi, \n",
    "                     np.arange(-ny, ny+1)/ny*2*np.pi)\n",
    "cross_im =   1.5*np.abs(np.cos(xx*yy))/(np.abs(xx*yy)+(3*np.pi/nx)) + np.random.uniform(-0.25, 0.25, size = xx.shape)\n",
    "im=ax[0].imshow(cross_im, cmap = 'hot'); \n",
    "ax[1].hist(cross_im.ravel(),bins=10);"
   ]
  },
  {
   "cell_type": "markdown",
   "metadata": {
    "slideshow": {
     "slide_type": "subslide"
    }
   },
   "source": [
    "### Applying a threshold to an image"
   ]
  },
  {
   "cell_type": "markdown",
   "metadata": {
    "slideshow": {
     "slide_type": "notes"
    }
   },
   "source": [
    "By examining the image and probability distribution function, we can _deduce_ that the underyling model is a whitish phase that makes up the cross and the darkish background"
   ]
  },
  {
   "cell_type": "markdown",
   "metadata": {
    "slideshow": {
     "slide_type": "-"
    }
   },
   "source": [
    "Applying the threshold is a deceptively simple operation\n",
    "\n",
    "$$ I(x,y) = \n",
    "\\begin{cases}\n",
    "1, & f(x,y)\\geq0.40 \\\\\n",
    "0, & f(x,y)<0.40\n",
    "\\end{cases}$$"
   ]
  },
  {
   "cell_type": "code",
   "execution_count": 73,
   "metadata": {},
   "outputs": [
    {
     "data": {
      "application/pdf": "[encoded data removed]",
      "image/png": "[encoded data removed]",
      "text/plain": [
       "<Figure size 1050x450 with 2 Axes>"
      ]
     },
     "metadata": {
      "needs_background": "light"
     },
     "output_type": "display_data"
    }
   ],
   "source": [
    "threshold = 0.4; thresh_img = cross_im > threshold\n",
    "\n",
    "fig,ax = plt.subplots(1,2,figsize=(7,3))\n",
    "ax[0].imshow(cross_im, cmap = 'hot', extent = [xx.min(), xx.max(), yy.min(), yy.max()])\n",
    "ax[0].plot(xx[np.where(thresh_img)]*0.9, yy[np.where(thresh_img)]*0.9,\n",
    "           'ks', markerfacecolor = 'green', alpha = 0.5,label = 'Threshold', markersize = 15); ax[0].legend(fontsize=8);\n",
    "ax[1].hist(cross_im.ravel(),bins=10); ax[1].axvline(x=threshold,color='r',label='Threshold'); ax[1].legend(fontsize=8);"
   ]
  },
  {
   "cell_type": "markdown",
   "metadata": {
    "slideshow": {
     "slide_type": "subslide"
    }
   },
   "source": [
    "## Noise and SNR"
   ]
  },
  {
   "cell_type": "markdown",
   "metadata": {
    "slideshow": {
     "slide_type": "subslide"
    }
   },
   "source": [
    "## Problematic segmentation tasks\n",
    "Intro"
   ]
  },
  {
   "cell_type": "markdown",
   "metadata": {
    "slideshow": {
     "slide_type": "subslide"
    }
   },
   "source": [
    "## Segmenation problems in neutron imaging"
   ]
  },
  {
   "cell_type": "markdown",
   "metadata": {
    "slideshow": {
     "slide_type": "slide"
    }
   },
   "source": [
    "# Limited data problem"
   ]
  },
  {
   "cell_type": "markdown",
   "metadata": {
    "slideshow": {
     "slide_type": "subslide"
    }
   },
   "source": [
    "## Training data from NI is limited"
   ]
  },
  {
   "cell_type": "markdown",
   "metadata": {
    "slideshow": {
     "slide_type": "subslide"
    }
   },
   "source": [
    "## Augmentation"
   ]
  },
  {
   "cell_type": "markdown",
   "metadata": {
    "slideshow": {
     "slide_type": "subslide"
    }
   },
   "source": [
    "## Transfer learning"
   ]
  },
  {
   "cell_type": "markdown",
   "metadata": {
    "slideshow": {
     "slide_type": "slide"
    }
   },
   "source": [
    "# Unsupervised segmentation\n",
    "-\te.g. k-means"
   ]
  },
  {
   "cell_type": "markdown",
   "metadata": {
    "slideshow": {
     "slide_type": "slide"
    }
   },
   "source": [
    "# Supervised segmentation\n",
    "-\te.g. k-NN, decision trees\n",
    "-\tNNs for segmentation"
   ]
  },
  {
   "cell_type": "markdown",
   "metadata": {
    "slideshow": {
     "slide_type": "slide"
    }
   },
   "source": [
    "## Baseline - Traditional spot cleaning algorithm\n",
    "\n",
    "<figure><img src=\"figures/spotclean_algorithm.svg\" style=\"height:400px\" align=\"middle\"></figure>\n",
    "\n",
    "#### Parameters\n",
    "\n",
    "- $N$ Width of median filter.\n",
    "- $k$ Threshold level for outlier detection."
   ]
  },
  {
   "cell_type": "markdown",
   "metadata": {
    "slideshow": {
     "slide_type": "slide"
    }
   },
   "source": [
    "# Final problem: Segmenting root networks in the rhizosphere using convolutional NNs\n",
    "-\tProblem definition\n",
    "-\tNN model\n",
    "-\tLoss functions\n",
    "-\tTraining\n",
    "-\tResults"
   ]
  },
  {
   "cell_type": "markdown",
   "metadata": {
    "slideshow": {
     "slide_type": "slide"
    }
   },
   "source": [
    "# Future Machine learning challenges in NI"
   ]
  },
  {
   "cell_type": "code",
   "execution_count": null,
   "metadata": {},
   "outputs": [],
   "source": []
  }
 ],
 "metadata": {
  "celltoolbar": "Slideshow",
  "hide_input": false,
  "kernelspec": {
   "display_name": "Python 3",
   "language": "python",
   "name": "python3"
  },
  "language_info": {
   "codemirror_mode": {
    "name": "ipython",
    "version": 3
   },
   "file_extension": ".py",
   "mimetype": "text/x-python",
   "name": "python",
   "nbconvert_exporter": "python",
   "pygments_lexer": "ipython3",
   "version": "3.7.6"
  },
  "livereveal": {
   "autolaunch": true,
   "footer": "ML for neutron image segmentation - Anders Kaestner",
   "header": "<table width='100%' style='margin: 0px;'><tr><td align='left'><img src='figures/PSI-Logo.svg' style='height:50px;'></td></tr></table>",
   "scroll": true
  }
 },
 "nbformat": 4,
 "nbformat_minor": 4
}
