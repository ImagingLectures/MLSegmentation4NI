{
 "cells": [
  {
   "cell_type": "code",
   "execution_count": null,
   "metadata": {},
   "outputs": [],
   "source": [
    "import matplotlib.pyplot as plt\n",
    "import numpy as np\n",
    "import pandas as pd\n",
    "import skimage.filters as flt\n",
    "import matplotlib as mpl\n",
    "from sklearn.cluster import KMeans\n",
    "from matplotlib.colors import ListedColormap\n",
    "from sklearn.datasets import make_blobs\n",
    "import scipy.stats as stats\n",
    "import skimage.io as io\n",
    "import astropy.io.fits as fits\n",
    "%matplotlib inline\n",
    "\n",
    "\n",
    "from IPython.display import set_matplotlib_formats\n",
    "set_matplotlib_formats('svg', 'png')\n",
    "plt.style.use('default')\n",
    "mpl.rcParams['figure.dpi'] = 150"
   ]
  },
  {
   "cell_type": "markdown",
   "metadata": {},
   "source": [
    "# Class unbalance"
   ]
  },
  {
   "cell_type": "code",
   "execution_count": null,
   "metadata": {},
   "outputs": [],
   "source": [
    "fig,ax = plt.subplots(1,2,figsize=(12,2))\n",
    "x=np.linspace(0,20,200)\n",
    "ax[0].plot(x,stats.norm.pdf(x, 8, 2),label='Background'); \n",
    "ax[0].plot(x,0.01*stats.norm.pdf(x, 18, 0.5),label='Feature'); \n",
    "ax[0].plot(x,stats.norm.pdf(x, 8, 2) + 0.01*stats.norm.pdf(x, 18, 0.5),':', label='Observed' ); \n",
    "ax[0].text(0.5, -0.1, '(a)', transform=ax[0].transAxes, fontsize=12, ha='center',va='center')  \n",
    "ax[0].axis('off')\n",
    "ax[1].plot(x,stats.norm.pdf(x, 8, 2),label='Background'); \n",
    "ax[1].plot(x,0.01*stats.norm.pdf(x, 10, 0.5),label='Features'); \n",
    "ax[1].plot(x,stats.norm.pdf(x, 8, 2) + 0.01*stats.norm.pdf(x, 10, 0.5),':', label='Observed' ); \n",
    "ax[1].axis('off')\n",
    "ax[1].text(0.5, -0.1, '(b)', transform=ax[1].transAxes, fontsize=12, ha='center',va='center')  \n",
    "ax[1].legend() ;\n",
    "plt.savefig('../lecture/figures/classunbalance.svg')\n",
    "plt.savefig('../lecture/figures/classunbalance.pdf')"
   ]
  },
  {
   "cell_type": "code",
   "execution_count": null,
   "metadata": {},
   "outputs": [],
   "source": [
    "print(x.shape)\n",
    "print(x.reshape((10,20)).shape)"
   ]
  },
  {
   "cell_type": "markdown",
   "metadata": {},
   "source": [
    "# Spot images"
   ]
  },
  {
   "cell_type": "code",
   "execution_count": null,
   "metadata": {},
   "outputs": [],
   "source": [
    "img=io.imread('../data/spots/mixture12_00001.png')\n",
    "orig= fits.getdata('../data/spots/mixture12_00001.fits')"
   ]
  },
  {
   "cell_type": "code",
   "execution_count": null,
   "metadata": {},
   "outputs": [],
   "source": [
    "img.shape"
   ]
  },
  {
   "cell_type": "code",
   "execution_count": null,
   "metadata": {},
   "outputs": [],
   "source": [
    "fig, ax = plt.subplots(1,4,figsize=(15,5))\n",
    "\n",
    "for i in range(4) :\n",
    "    #ax[i].imshow(img[0:50,0:50,i])\n",
    "    ax[i].imshow(img[100:150,100:150,i])"
   ]
  },
  {
   "cell_type": "code",
   "execution_count": null,
   "metadata": {},
   "outputs": [],
   "source": [
    "img[:,:,0].max()"
   ]
  },
  {
   "cell_type": "code",
   "execution_count": null,
   "metadata": {},
   "outputs": [],
   "source": [
    "fig, ax = plt.subplots(1,3,figsize=(15,8))\n",
    "r=600\n",
    "c=600\n",
    "w=256\n",
    "mask=(img[:,:,1]==0).astype(float)\n",
    "ax[0].imshow(orig[r:(r+w),c:(c+w)],vmin=0, vmax=4000,cmap='gray'), ax[0].set_title('Original projection')\n",
    "ax[1].imshow(img[r:(r+w),c:(c+w)]), ax[1].set_title('Mark up')\n",
    "ax[2].imshow(mask[r:(r+w),c:(c+w)],cmap='gray'),ax[2].set_title('Mask');\n",
    "plt.savefig('../lecture/figures/markedspots.svg')\n",
    "plt.savefig('../lecture/figures/markedspots.pdf')"
   ]
  },
  {
   "cell_type": "code",
   "execution_count": null,
   "metadata": {},
   "outputs": [],
   "source": [
    "img.shape"
   ]
  },
  {
   "cell_type": "code",
   "execution_count": null,
   "metadata": {},
   "outputs": [],
   "source": [
    "def magnifyRegion(img,roi, figsize, cmap='gray',vmin=0,vmax=0,title='Original') :\n",
    "    if vmin==vmax:\n",
    "        vmin=img.min()\n",
    "        vmax=img.max()\n",
    "    fig, ax = plt.subplots(1,2,figsize=figsize)\n",
    "    \n",
    "    ax[0].imshow(img,cmap=cmap,vmin=vmin, vmax=vmax)\n",
    "    ax[0].plot([roi[1],roi[3]],[roi[0],roi[0]],'r')\n",
    "    ax[0].plot([roi[3],roi[3]],[roi[0],roi[2]],'r')\n",
    "    ax[0].plot([roi[1],roi[3]],[roi[2],roi[2]],'r')\n",
    "    ax[0].plot([roi[1],roi[1]],[roi[0],roi[2]],'r')\n",
    "    ax[0].set_title(title)\n",
    "    subimg=img[roi[0]:roi[2],roi[1]:roi[3]]\n",
    "    ax[1].imshow(subimg,cmap=cmap,extent=[roi[0],roi[2],roi[1],roi[3]],vmin=vmin, vmax=vmax)\n",
    "    ax[1].set_title('Magnified ROI')\n",
    "    \n",
    "    "
   ]
  },
  {
   "cell_type": "code",
   "execution_count": null,
   "metadata": {},
   "outputs": [],
   "source": [
    "r=600\n",
    "c=600\n",
    "w=256\n",
    "magnifyRegion(orig,[r,c,r+w,c+w],[15,7],vmin=400,vmax=4000,title='Neutron radiography')\n",
    "plt.savefig('../lecture/figures/spotimage.svg')\n",
    "plt.savefig('../lecture/figures/spotimage.pdf')"
   ]
  },
  {
   "cell_type": "code",
   "execution_count": null,
   "metadata": {},
   "outputs": [],
   "source": [
    "plt.imshow(orig,vmin=400,vmax=4000,cmap='gray')\n",
    "N=64\n",
    "plt.vlines(N*np.arange(orig.shape[1]//N),ymin=0,ymax=orig.shape[1]-1,colors='cornflowerblue',linewidths=0.5)\n",
    "plt.hlines(N*np.arange(orig.shape[0]//N),xmin=0,xmax=orig.shape[0]-1,colors='cornflowerblue',linewidths=0.5);\n",
    "plt.tight_layout()\n",
    "plt.savefig('../lecture/figures/tilegrid.svg')\n",
    "plt.savefig('../lecture/figures/tilegrid.pdf')"
   ]
  },
  {
   "cell_type": "code",
   "execution_count": null,
   "metadata": {},
   "outputs": [],
   "source": [
    "%matplotlib inline\n",
    "from skimage.io import imread\n",
    "import matplotlib.pyplot as plt\n",
    "import numpy as np\n",
    "\n",
    "files  = ['class_art_in.png','class_wgn_in.png','class_cupped_in.png','class_wgn_smooth_in.png']\n",
    "titles = ['Artefacts','Noise','Gradients','Noise and unsharpness']\n",
    "\n",
    "plt.figure(figsize=[15,9])\n",
    "for i in range(4) :\n",
    "    img = imread('../lecture/figures/'+files[i])\n",
    "    plt.subplot(3,4,i+1), plt.imshow(img, cmap='gray'), plt.title(titles[i])\n",
    "    plt.subplot(3,4,i+5), plt.hist(img.ravel(),bins=50)\n",
    "    plt.subplot(3,4,i+9), plt.imshow(120<img, cmap='gray')\n",
    "    \n",
    "plt.savefig('../lecture/figures/trickycases.svg')\n",
    "plt.savefig('../lecture/figures/trickycases.pdf')"
   ]
  },
  {
   "cell_type": "code",
   "execution_count": null,
   "metadata": {},
   "outputs": [],
   "source": []
  }
 ],
 "metadata": {
  "kernelspec": {
   "display_name": "Python 3",
   "language": "python",
   "name": "python3"
  },
  "language_info": {
   "codemirror_mode": {
    "name": "ipython",
    "version": 3
   },
   "file_extension": ".py",
   "mimetype": "text/x-python",
   "name": "python",
   "nbconvert_exporter": "python",
   "pygments_lexer": "ipython3",
   "version": "3.7.6"
  }
 },
 "nbformat": 4,
 "nbformat_minor": 4
}
