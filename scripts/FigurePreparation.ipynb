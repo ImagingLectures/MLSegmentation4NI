{
 "cells": [
  {
   "cell_type": "code",
   "execution_count": null,
   "metadata": {},
   "outputs": [],
   "source": [
    "import matplotlib.pyplot as plt\n",
    "import numpy as np\n",
    "import pandas as pd\n",
    "import skimage.filters as flt\n",
    "import matplotlib as mpl\n",
    "from sklearn.cluster import KMeans\n",
    "from matplotlib.colors import ListedColormap\n",
    "from sklearn.datasets import make_blobs\n",
    "import scipy.stats as stats\n",
    "%matplotlib inline\n",
    "\n",
    "\n",
    "from IPython.display import set_matplotlib_formats\n",
    "set_matplotlib_formats('svg', 'png')\n",
    "plt.style.use('seaborn')\n",
    "mpl.rcParams['figure.dpi'] = 150"
   ]
  },
  {
   "cell_type": "markdown",
   "metadata": {},
   "source": [
    "# Class unbalance"
   ]
  },
  {
   "cell_type": "code",
   "execution_count": null,
   "metadata": {},
   "outputs": [],
   "source": [
    "fig,ax = plt.subplots(1,2,figsize=(12,2))\n",
    "x=np.linspace(0,20,200)\n",
    "ax[0].plot(x,stats.norm.pdf(x, 8, 2),label='Background'); \n",
    "ax[0].plot(x,0.01*stats.norm.pdf(x, 18, 0.5),label='Feature'); \n",
    "ax[0].plot(x,stats.norm.pdf(x, 8, 2) + 0.01*stats.norm.pdf(x, 18, 0.5),':', label='Observed' ); \n",
    "ax[0].text(0.5, -0.1, '(a)', transform=ax[0].transAxes, fontsize=12, ha='center',va='center')  \n",
    "ax[0].axis('off')\n",
    "ax[1].plot(x,stats.norm.pdf(x, 8, 2),label='Background'); \n",
    "ax[1].plot(x,0.01*stats.norm.pdf(x, 10, 0.5),label='Features'); \n",
    "ax[1].plot(x,stats.norm.pdf(x, 8, 2) + 0.01*stats.norm.pdf(x, 10, 0.5),':', label='Observed' ); \n",
    "ax[1].axis('off')\n",
    "ax[1].text(0.5, -0.1, '(b)', transform=ax[1].transAxes, fontsize=12, ha='center',va='center')  \n",
    "ax[1].legend() ;\n",
    "plt.savefig('../lecture/figures/classunbalance.svg')\n",
    "plt.savefig('../lecture/figures/classunbalance.pdf')"
   ]
  },
  {
   "cell_type": "code",
   "execution_count": null,
   "metadata": {},
   "outputs": [],
   "source": [
    "print(x.shape)\n",
    "print(x.reshape((10,20)).shape)"
   ]
  },
  {
   "cell_type": "code",
   "execution_count": null,
   "metadata": {},
   "outputs": [],
   "source": []
  }
 ],
 "metadata": {
  "kernelspec": {
   "display_name": "Python 3",
   "language": "python",
   "name": "python3"
  },
  "language_info": {
   "codemirror_mode": {
    "name": "ipython",
    "version": 3
   },
   "file_extension": ".py",
   "mimetype": "text/x-python",
   "name": "python",
   "nbconvert_exporter": "python",
   "pygments_lexer": "ipython3",
   "version": "3.8.5"
  }
 },
 "nbformat": 4,
 "nbformat_minor": 4
}
