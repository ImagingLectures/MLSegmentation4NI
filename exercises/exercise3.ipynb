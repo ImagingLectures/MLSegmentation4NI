{
 "cells": [
  {
   "cell_type": "markdown",
   "metadata": {},
   "source": [
    "# Exercise 3: U-Net for segmentation\n",
    "Your task: Test different free variables in the NN model and number of training epochs \n",
    "1. Load the spot data \n",
    "2. Crop training, validation, and test data \n",
    "3. Test the impact of increasing the number of epochs e.g. 40 or 100\n",
    "4. Test the impact of increasing the number of base filters in the model\n",
    "5. Test the impact of reducing by one layer in the model\n",
    "6. Check the results using the confusion matrix"
   ]
  },
  {
   "cell_type": "code",
   "execution_count": null,
   "metadata": {},
   "outputs": [],
   "source": []
  }
 ],
 "metadata": {
  "kernelspec": {
   "display_name": "Python 3",
   "language": "python",
   "name": "python3"
  },
  "language_info": {
   "codemirror_mode": {
    "name": "ipython",
    "version": 3
   },
   "file_extension": ".py",
   "mimetype": "text/x-python",
   "name": "python",
   "nbconvert_exporter": "python",
   "pygments_lexer": "ipython3",
   "version": "3.7.6"
  }
 },
 "nbformat": 4,
 "nbformat_minor": 4
}
